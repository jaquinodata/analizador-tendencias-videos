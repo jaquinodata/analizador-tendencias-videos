{
 "cells": [
  {
   "cell_type": "markdown",
   "id": "e62c7df5-d6b8-4cc6-969f-1bfae17ab541",
   "metadata": {},
   "source": [
    "### Notebook 4-2\n",
    "# Regresión: reto opcional"
   ]
  },
  {
   "cell_type": "markdown",
   "id": "db681d92-e24c-4eed-8cd1-8431dff8d895",
   "metadata": {},
   "source": [
    "## Se pide:\n",
    "\n",
    "Se deberán probar todos los modelos posibles para cada uno de los siguientes problemas de negocio, industrializando en el paquete solamente el mejor de ellos para cada uno de los casos, con los mejores hiperparámetros y transformaciones previas encontradas.\n",
    "\n",
    "<b>Regresión</b>:<br>\n",
    "<b>Reto opcional</b>:<br>\n",
    "Intentar predecir la ratio de likes/dislikes de cada vídeo."
   ]
  },
  {
   "cell_type": "markdown",
   "id": "465d3b32-ff29-4157-b97c-3d1f08df085f",
   "metadata": {},
   "source": [
    "## Importaciones"
   ]
  },
  {
   "cell_type": "code",
   "execution_count": 1,
   "id": "55e65ccf-5ea7-44be-a884-45cc6b314824",
   "metadata": {},
   "outputs": [],
   "source": [
    "import pandas as pd\n",
    "import numpy as np\n",
    "import seaborn as sns\n",
    "import matplotlib.pyplot as plt\n",
    "from collections import Counter\n",
    "\n",
    "from sklearn.neural_network import MLPRegressor\n",
    "from sklearn.ensemble import RandomForestRegressor\n",
    "from sklearn.model_selection import RandomizedSearchCV\n",
    "from sklearn.model_selection import GridSearchCV\n",
    "\n",
    "from sklearn.preprocessing import LabelEncoder, StandardScaler, MinMaxScaler\n",
    "from sklearn.model_selection import train_test_split\n",
    "from sklearn import metrics\n",
    "\n",
    "from sklearn.metrics import mean_absolute_error, mean_squared_error, root_mean_squared_error"
   ]
  },
  {
   "cell_type": "markdown",
   "id": "b8f7960d-e3f3-4960-8d02-3c6541bd5ea9",
   "metadata": {},
   "source": [
    "## Carga de datos\n",
    "Carga del fichero de datos generado al final del EDA."
   ]
  },
  {
   "cell_type": "code",
   "execution_count": 2,
   "id": "dfd30462-ba91-45cb-97f6-60173f6f5c66",
   "metadata": {},
   "outputs": [],
   "source": [
    "df = pd.read_csv('..//data//processed//csv_eda.csv', index_col=0)"
   ]
  },
  {
   "cell_type": "code",
   "execution_count": 3,
   "id": "b87b9ea9-b94f-4018-949c-8509f72da887",
   "metadata": {},
   "outputs": [
    {
     "data": {
      "text/plain": [
       "Index(['title', 'channel_title', 'tags', 'views', 'likes', 'dislikes',\n",
       "       'comment_count', 'comments_disabled', 'ratings_disabled', 'category',\n",
       "       'country', 'trending_date_year', 'trending_date_month',\n",
       "       'publish_time_year', 'publish_time_month', 'ratio_viralidad',\n",
       "       'ratio_interaccion_dia', 'publish_trending_days',\n",
       "       'channel_title_encoded', 'tags_encoded', 'category_encoded',\n",
       "       'country_encoded', 'views_encoded', 'likes_encoded', 'dislikes_encoded',\n",
       "       'comment_count_encoded', 'ratio_interaccion_dia_encoded',\n",
       "       'trending_date_year_encoded', 'publish_time_year_encoded',\n",
       "       'trending_date_month_encoded', 'publish_time_month_encoded'],\n",
       "      dtype='object')"
      ]
     },
     "execution_count": 3,
     "metadata": {},
     "output_type": "execute_result"
    }
   ],
   "source": [
    "df.columns"
   ]
  },
  {
   "cell_type": "markdown",
   "id": "9a1c0428-fae2-4d85-a25d-2243c78a06ad",
   "metadata": {},
   "source": [
    "Eliminamos la variable title, que no la vamos a usar."
   ]
  },
  {
   "cell_type": "code",
   "execution_count": 4,
   "id": "c397816f-a141-4695-8fc3-efaff188518e",
   "metadata": {},
   "outputs": [],
   "source": [
    "df = df.drop('title', axis='columns')"
   ]
  },
  {
   "cell_type": "code",
   "execution_count": 5,
   "id": "64d784f2-a1e6-45af-a52a-c31d29c359b7",
   "metadata": {},
   "outputs": [
    {
     "data": {
      "text/html": [
       "<div>\n",
       "<style scoped>\n",
       "    .dataframe tbody tr th:only-of-type {\n",
       "        vertical-align: middle;\n",
       "    }\n",
       "\n",
       "    .dataframe tbody tr th {\n",
       "        vertical-align: top;\n",
       "    }\n",
       "\n",
       "    .dataframe thead th {\n",
       "        text-align: right;\n",
       "    }\n",
       "</style>\n",
       "<table border=\"1\" class=\"dataframe\">\n",
       "  <thead>\n",
       "    <tr style=\"text-align: right;\">\n",
       "      <th></th>\n",
       "      <th>channel_title</th>\n",
       "      <th>tags</th>\n",
       "      <th>views</th>\n",
       "      <th>likes</th>\n",
       "      <th>dislikes</th>\n",
       "      <th>comment_count</th>\n",
       "      <th>comments_disabled</th>\n",
       "      <th>ratings_disabled</th>\n",
       "      <th>category</th>\n",
       "      <th>country</th>\n",
       "      <th>...</th>\n",
       "      <th>country_encoded</th>\n",
       "      <th>views_encoded</th>\n",
       "      <th>likes_encoded</th>\n",
       "      <th>dislikes_encoded</th>\n",
       "      <th>comment_count_encoded</th>\n",
       "      <th>ratio_interaccion_dia_encoded</th>\n",
       "      <th>trending_date_year_encoded</th>\n",
       "      <th>publish_time_year_encoded</th>\n",
       "      <th>trending_date_month_encoded</th>\n",
       "      <th>publish_time_month_encoded</th>\n",
       "    </tr>\n",
       "  </thead>\n",
       "  <tbody>\n",
       "    <tr>\n",
       "      <th>0</th>\n",
       "      <td>EminemVEVO</td>\n",
       "      <td>Eminem|\"Walk\"|\"On\"|\"Water\"|\"Aftermath/Shady/In...</td>\n",
       "      <td>17158579</td>\n",
       "      <td>787425</td>\n",
       "      <td>43420</td>\n",
       "      <td>125882</td>\n",
       "      <td>False</td>\n",
       "      <td>False</td>\n",
       "      <td>Music</td>\n",
       "      <td>CA</td>\n",
       "      <td>...</td>\n",
       "      <td>0</td>\n",
       "      <td>2.195188</td>\n",
       "      <td>4.501606</td>\n",
       "      <td>1.803614</td>\n",
       "      <td>4.773962</td>\n",
       "      <td>4.336095</td>\n",
       "      <td>-1.823782</td>\n",
       "      <td>-1.758901</td>\n",
       "      <td>0.909091</td>\n",
       "      <td>0.909091</td>\n",
       "    </tr>\n",
       "    <tr>\n",
       "      <th>1</th>\n",
       "      <td>iDubbbzTV</td>\n",
       "      <td>plush|\"bad unboxing\"|\"unboxing\"|\"fan mail\"|\"id...</td>\n",
       "      <td>1014651</td>\n",
       "      <td>127794</td>\n",
       "      <td>1688</td>\n",
       "      <td>13030</td>\n",
       "      <td>False</td>\n",
       "      <td>False</td>\n",
       "      <td>Comedy</td>\n",
       "      <td>CA</td>\n",
       "      <td>...</td>\n",
       "      <td>0</td>\n",
       "      <td>-0.046118</td>\n",
       "      <td>0.536588</td>\n",
       "      <td>-0.020748</td>\n",
       "      <td>0.342217</td>\n",
       "      <td>0.455297</td>\n",
       "      <td>-1.823782</td>\n",
       "      <td>-1.758901</td>\n",
       "      <td>0.909091</td>\n",
       "      <td>0.909091</td>\n",
       "    </tr>\n",
       "    <tr>\n",
       "      <th>2</th>\n",
       "      <td>Rudy Mancuso</td>\n",
       "      <td>racist superman|\"rudy\"|\"mancuso\"|\"king\"|\"bach\"...</td>\n",
       "      <td>3191434</td>\n",
       "      <td>146035</td>\n",
       "      <td>5339</td>\n",
       "      <td>8181</td>\n",
       "      <td>False</td>\n",
       "      <td>False</td>\n",
       "      <td>Comedy</td>\n",
       "      <td>CA</td>\n",
       "      <td>...</td>\n",
       "      <td>0</td>\n",
       "      <td>0.256091</td>\n",
       "      <td>0.646234</td>\n",
       "      <td>0.138859</td>\n",
       "      <td>0.151795</td>\n",
       "      <td>0.536341</td>\n",
       "      <td>-1.823782</td>\n",
       "      <td>-1.758901</td>\n",
       "      <td>0.909091</td>\n",
       "      <td>0.909091</td>\n",
       "    </tr>\n",
       "    <tr>\n",
       "      <th>3</th>\n",
       "      <td>nigahiga</td>\n",
       "      <td>ryan|\"higa\"|\"higatv\"|\"nigahiga\"|\"i dare you\"|\"...</td>\n",
       "      <td>2095828</td>\n",
       "      <td>132239</td>\n",
       "      <td>1989</td>\n",
       "      <td>17518</td>\n",
       "      <td>False</td>\n",
       "      <td>False</td>\n",
       "      <td>Entertainment</td>\n",
       "      <td>CA</td>\n",
       "      <td>...</td>\n",
       "      <td>0</td>\n",
       "      <td>0.103985</td>\n",
       "      <td>0.563307</td>\n",
       "      <td>-0.007590</td>\n",
       "      <td>0.518462</td>\n",
       "      <td>0.499084</td>\n",
       "      <td>-1.823782</td>\n",
       "      <td>-1.758901</td>\n",
       "      <td>0.909091</td>\n",
       "      <td>0.909091</td>\n",
       "    </tr>\n",
       "    <tr>\n",
       "      <th>4</th>\n",
       "      <td>Ed Sheeran</td>\n",
       "      <td>edsheeran|\"ed sheeran\"|\"acoustic\"|\"live\"|\"cove...</td>\n",
       "      <td>33523622</td>\n",
       "      <td>1634130</td>\n",
       "      <td>21082</td>\n",
       "      <td>85067</td>\n",
       "      <td>False</td>\n",
       "      <td>False</td>\n",
       "      <td>Music</td>\n",
       "      <td>CA</td>\n",
       "      <td>...</td>\n",
       "      <td>0</td>\n",
       "      <td>4.467192</td>\n",
       "      <td>9.591119</td>\n",
       "      <td>0.827083</td>\n",
       "      <td>3.171140</td>\n",
       "      <td>8.064948</td>\n",
       "      <td>-1.823782</td>\n",
       "      <td>-1.758901</td>\n",
       "      <td>0.909091</td>\n",
       "      <td>0.909091</td>\n",
       "    </tr>\n",
       "    <tr>\n",
       "      <th>...</th>\n",
       "      <td>...</td>\n",
       "      <td>...</td>\n",
       "      <td>...</td>\n",
       "      <td>...</td>\n",
       "      <td>...</td>\n",
       "      <td>...</td>\n",
       "      <td>...</td>\n",
       "      <td>...</td>\n",
       "      <td>...</td>\n",
       "      <td>...</td>\n",
       "      <td>...</td>\n",
       "      <td>...</td>\n",
       "      <td>...</td>\n",
       "      <td>...</td>\n",
       "      <td>...</td>\n",
       "      <td>...</td>\n",
       "      <td>...</td>\n",
       "      <td>...</td>\n",
       "      <td>...</td>\n",
       "      <td>...</td>\n",
       "      <td>...</td>\n",
       "    </tr>\n",
       "    <tr>\n",
       "      <th>375937</th>\n",
       "      <td>AaronsAnimals</td>\n",
       "      <td>aarons animals|\"aarons\"|\"animals\"|\"cat\"|\"cats\"...</td>\n",
       "      <td>1685609</td>\n",
       "      <td>38160</td>\n",
       "      <td>1385</td>\n",
       "      <td>2657</td>\n",
       "      <td>False</td>\n",
       "      <td>False</td>\n",
       "      <td>Pets &amp; Animals</td>\n",
       "      <td>US</td>\n",
       "      <td>...</td>\n",
       "      <td>9</td>\n",
       "      <td>0.047033</td>\n",
       "      <td>-0.002199</td>\n",
       "      <td>-0.033994</td>\n",
       "      <td>-0.065135</td>\n",
       "      <td>-0.007514</td>\n",
       "      <td>0.548311</td>\n",
       "      <td>0.568537</td>\n",
       "      <td>0.454545</td>\n",
       "      <td>0.363636</td>\n",
       "    </tr>\n",
       "    <tr>\n",
       "      <th>375938</th>\n",
       "      <td>zefrank1</td>\n",
       "      <td>[none]</td>\n",
       "      <td>1064798</td>\n",
       "      <td>60008</td>\n",
       "      <td>382</td>\n",
       "      <td>3936</td>\n",
       "      <td>False</td>\n",
       "      <td>False</td>\n",
       "      <td>People &amp; Blogs</td>\n",
       "      <td>US</td>\n",
       "      <td>...</td>\n",
       "      <td>9</td>\n",
       "      <td>-0.039156</td>\n",
       "      <td>0.129129</td>\n",
       "      <td>-0.077842</td>\n",
       "      <td>-0.014908</td>\n",
       "      <td>0.106453</td>\n",
       "      <td>0.548311</td>\n",
       "      <td>0.568537</td>\n",
       "      <td>0.454545</td>\n",
       "      <td>0.363636</td>\n",
       "    </tr>\n",
       "    <tr>\n",
       "      <th>375939</th>\n",
       "      <td>Brad Mondo</td>\n",
       "      <td>I gave safiya nygaard a perfect hair makeover ...</td>\n",
       "      <td>1066451</td>\n",
       "      <td>48068</td>\n",
       "      <td>1032</td>\n",
       "      <td>3992</td>\n",
       "      <td>False</td>\n",
       "      <td>False</td>\n",
       "      <td>Entertainment</td>\n",
       "      <td>US</td>\n",
       "      <td>...</td>\n",
       "      <td>9</td>\n",
       "      <td>-0.038926</td>\n",
       "      <td>0.057358</td>\n",
       "      <td>-0.049426</td>\n",
       "      <td>-0.012709</td>\n",
       "      <td>0.048701</td>\n",
       "      <td>0.548311</td>\n",
       "      <td>0.568537</td>\n",
       "      <td>0.454545</td>\n",
       "      <td>0.363636</td>\n",
       "    </tr>\n",
       "    <tr>\n",
       "      <th>375940</th>\n",
       "      <td>How It Should Have Ended</td>\n",
       "      <td>Black Panther|\"HISHE\"|\"Marvel\"|\"Infinity War\"|...</td>\n",
       "      <td>5660813</td>\n",
       "      <td>192957</td>\n",
       "      <td>2846</td>\n",
       "      <td>13088</td>\n",
       "      <td>False</td>\n",
       "      <td>False</td>\n",
       "      <td>Film &amp; Animation</td>\n",
       "      <td>US</td>\n",
       "      <td>...</td>\n",
       "      <td>9</td>\n",
       "      <td>0.598922</td>\n",
       "      <td>0.928280</td>\n",
       "      <td>0.029875</td>\n",
       "      <td>0.344494</td>\n",
       "      <td>0.851151</td>\n",
       "      <td>0.548311</td>\n",
       "      <td>0.568537</td>\n",
       "      <td>0.454545</td>\n",
       "      <td>0.363636</td>\n",
       "    </tr>\n",
       "    <tr>\n",
       "      <th>375941</th>\n",
       "      <td>Call of Duty</td>\n",
       "      <td>call of duty|\"cod\"|\"activision\"|\"Black Ops 4\"</td>\n",
       "      <td>10306119</td>\n",
       "      <td>357079</td>\n",
       "      <td>212976</td>\n",
       "      <td>144795</td>\n",
       "      <td>False</td>\n",
       "      <td>False</td>\n",
       "      <td>Gaming</td>\n",
       "      <td>US</td>\n",
       "      <td>...</td>\n",
       "      <td>9</td>\n",
       "      <td>1.243842</td>\n",
       "      <td>1.914812</td>\n",
       "      <td>9.215949</td>\n",
       "      <td>5.516684</td>\n",
       "      <td>3.457496</td>\n",
       "      <td>0.548311</td>\n",
       "      <td>0.568537</td>\n",
       "      <td>0.454545</td>\n",
       "      <td>0.363636</td>\n",
       "    </tr>\n",
       "  </tbody>\n",
       "</table>\n",
       "<p>362283 rows × 30 columns</p>\n",
       "</div>"
      ],
      "text/plain": [
       "                   channel_title  \\\n",
       "0                     EminemVEVO   \n",
       "1                      iDubbbzTV   \n",
       "2                   Rudy Mancuso   \n",
       "3                       nigahiga   \n",
       "4                     Ed Sheeran   \n",
       "...                          ...   \n",
       "375937             AaronsAnimals   \n",
       "375938                  zefrank1   \n",
       "375939                Brad Mondo   \n",
       "375940  How It Should Have Ended   \n",
       "375941              Call of Duty   \n",
       "\n",
       "                                                     tags     views    likes  \\\n",
       "0       Eminem|\"Walk\"|\"On\"|\"Water\"|\"Aftermath/Shady/In...  17158579   787425   \n",
       "1       plush|\"bad unboxing\"|\"unboxing\"|\"fan mail\"|\"id...   1014651   127794   \n",
       "2       racist superman|\"rudy\"|\"mancuso\"|\"king\"|\"bach\"...   3191434   146035   \n",
       "3       ryan|\"higa\"|\"higatv\"|\"nigahiga\"|\"i dare you\"|\"...   2095828   132239   \n",
       "4       edsheeran|\"ed sheeran\"|\"acoustic\"|\"live\"|\"cove...  33523622  1634130   \n",
       "...                                                   ...       ...      ...   \n",
       "375937  aarons animals|\"aarons\"|\"animals\"|\"cat\"|\"cats\"...   1685609    38160   \n",
       "375938                                             [none]   1064798    60008   \n",
       "375939  I gave safiya nygaard a perfect hair makeover ...   1066451    48068   \n",
       "375940  Black Panther|\"HISHE\"|\"Marvel\"|\"Infinity War\"|...   5660813   192957   \n",
       "375941      call of duty|\"cod\"|\"activision\"|\"Black Ops 4\"  10306119   357079   \n",
       "\n",
       "        dislikes  comment_count  comments_disabled  ratings_disabled  \\\n",
       "0          43420         125882              False             False   \n",
       "1           1688          13030              False             False   \n",
       "2           5339           8181              False             False   \n",
       "3           1989          17518              False             False   \n",
       "4          21082          85067              False             False   \n",
       "...          ...            ...                ...               ...   \n",
       "375937      1385           2657              False             False   \n",
       "375938       382           3936              False             False   \n",
       "375939      1032           3992              False             False   \n",
       "375940      2846          13088              False             False   \n",
       "375941    212976         144795              False             False   \n",
       "\n",
       "                category country  ...  country_encoded  views_encoded  \\\n",
       "0                  Music      CA  ...                0       2.195188   \n",
       "1                 Comedy      CA  ...                0      -0.046118   \n",
       "2                 Comedy      CA  ...                0       0.256091   \n",
       "3          Entertainment      CA  ...                0       0.103985   \n",
       "4                  Music      CA  ...                0       4.467192   \n",
       "...                  ...     ...  ...              ...            ...   \n",
       "375937    Pets & Animals      US  ...                9       0.047033   \n",
       "375938    People & Blogs      US  ...                9      -0.039156   \n",
       "375939     Entertainment      US  ...                9      -0.038926   \n",
       "375940  Film & Animation      US  ...                9       0.598922   \n",
       "375941            Gaming      US  ...                9       1.243842   \n",
       "\n",
       "        likes_encoded  dislikes_encoded  comment_count_encoded  \\\n",
       "0            4.501606          1.803614               4.773962   \n",
       "1            0.536588         -0.020748               0.342217   \n",
       "2            0.646234          0.138859               0.151795   \n",
       "3            0.563307         -0.007590               0.518462   \n",
       "4            9.591119          0.827083               3.171140   \n",
       "...               ...               ...                    ...   \n",
       "375937      -0.002199         -0.033994              -0.065135   \n",
       "375938       0.129129         -0.077842              -0.014908   \n",
       "375939       0.057358         -0.049426              -0.012709   \n",
       "375940       0.928280          0.029875               0.344494   \n",
       "375941       1.914812          9.215949               5.516684   \n",
       "\n",
       "        ratio_interaccion_dia_encoded  trending_date_year_encoded  \\\n",
       "0                            4.336095                   -1.823782   \n",
       "1                            0.455297                   -1.823782   \n",
       "2                            0.536341                   -1.823782   \n",
       "3                            0.499084                   -1.823782   \n",
       "4                            8.064948                   -1.823782   \n",
       "...                               ...                         ...   \n",
       "375937                      -0.007514                    0.548311   \n",
       "375938                       0.106453                    0.548311   \n",
       "375939                       0.048701                    0.548311   \n",
       "375940                       0.851151                    0.548311   \n",
       "375941                       3.457496                    0.548311   \n",
       "\n",
       "        publish_time_year_encoded  trending_date_month_encoded  \\\n",
       "0                       -1.758901                     0.909091   \n",
       "1                       -1.758901                     0.909091   \n",
       "2                       -1.758901                     0.909091   \n",
       "3                       -1.758901                     0.909091   \n",
       "4                       -1.758901                     0.909091   \n",
       "...                           ...                          ...   \n",
       "375937                   0.568537                     0.454545   \n",
       "375938                   0.568537                     0.454545   \n",
       "375939                   0.568537                     0.454545   \n",
       "375940                   0.568537                     0.454545   \n",
       "375941                   0.568537                     0.454545   \n",
       "\n",
       "        publish_time_month_encoded  \n",
       "0                         0.909091  \n",
       "1                         0.909091  \n",
       "2                         0.909091  \n",
       "3                         0.909091  \n",
       "4                         0.909091  \n",
       "...                            ...  \n",
       "375937                    0.363636  \n",
       "375938                    0.363636  \n",
       "375939                    0.363636  \n",
       "375940                    0.363636  \n",
       "375941                    0.363636  \n",
       "\n",
       "[362283 rows x 30 columns]"
      ]
     },
     "execution_count": 5,
     "metadata": {},
     "output_type": "execute_result"
    }
   ],
   "source": [
    "df"
   ]
  },
  {
   "cell_type": "markdown",
   "id": "8602e4ff-8a94-4e1d-94aa-dd2b232a2bfd",
   "metadata": {},
   "source": [
    "# Crear un algoritmo de regresión que prediga la ratio likes/dislikes del vídeo."
   ]
  },
  {
   "cell_type": "markdown",
   "id": "0ead3319-bbc9-4080-9efc-968e41984133",
   "metadata": {},
   "source": [
    "Vamos a crear una nueva variable que será nuestra variable objetivo, ratio_likes_dislikes, y pasaremos a estudiar esta nueva variable."
   ]
  },
  {
   "cell_type": "markdown",
   "id": "1498c2d3-5410-4db8-a392-23cc8f4ff2be",
   "metadata": {},
   "source": [
    "### Crear la variable objetivo"
   ]
  },
  {
   "cell_type": "markdown",
   "id": "9bc5e6f7-fdb1-45c9-938e-d8bc1fe08bd7",
   "metadata": {},
   "source": [
    "Tenemos más de 9.000 registros con dislikes a cero, lo que haría que calcular la ratio diera error."
   ]
  },
  {
   "cell_type": "code",
   "execution_count": 6,
   "id": "f488069a-3fbc-42f9-96c1-a1d01f997648",
   "metadata": {},
   "outputs": [
    {
     "data": {
      "text/plain": [
       "(9062, 30)"
      ]
     },
     "execution_count": 6,
     "metadata": {},
     "output_type": "execute_result"
    }
   ],
   "source": [
    "df[df['dislikes'].apply(lambda x: x==0)].shape"
   ]
  },
  {
   "cell_type": "markdown",
   "id": "585e9e6c-f178-4657-aabd-47b189b9fc57",
   "metadata": {},
   "source": [
    "Considero que estos 9.000 registros (un 2,5% del total) no van a poder aportar información al estudio del ratio, por lo que los elimino."
   ]
  },
  {
   "cell_type": "code",
   "execution_count": 7,
   "id": "cba260d2-7601-4d61-b82c-1132b5a279f4",
   "metadata": {},
   "outputs": [
    {
     "data": {
      "text/plain": [
       "(0, 30)"
      ]
     },
     "execution_count": 7,
     "metadata": {},
     "output_type": "execute_result"
    }
   ],
   "source": [
    "df = df[df['dislikes'].apply(lambda x: x!=0)].copy()\n",
    "\n",
    "df[df['dislikes'].apply(lambda x: x==0)].shape"
   ]
  },
  {
   "cell_type": "markdown",
   "id": "3faa667a-e4b9-47f6-bb94-cebe18435709",
   "metadata": {},
   "source": [
    "Creamos la nueva variable"
   ]
  },
  {
   "cell_type": "code",
   "execution_count": 8,
   "id": "d723c476-c0af-47c4-85d5-2d729277531c",
   "metadata": {},
   "outputs": [
    {
     "data": {
      "text/html": [
       "<div>\n",
       "<style scoped>\n",
       "    .dataframe tbody tr th:only-of-type {\n",
       "        vertical-align: middle;\n",
       "    }\n",
       "\n",
       "    .dataframe tbody tr th {\n",
       "        vertical-align: top;\n",
       "    }\n",
       "\n",
       "    .dataframe thead th {\n",
       "        text-align: right;\n",
       "    }\n",
       "</style>\n",
       "<table border=\"1\" class=\"dataframe\">\n",
       "  <thead>\n",
       "    <tr style=\"text-align: right;\">\n",
       "      <th></th>\n",
       "      <th>likes</th>\n",
       "      <th>dislikes</th>\n",
       "      <th>ratio_likes_dislikes</th>\n",
       "    </tr>\n",
       "  </thead>\n",
       "  <tbody>\n",
       "    <tr>\n",
       "      <th>0</th>\n",
       "      <td>787425</td>\n",
       "      <td>43420</td>\n",
       "      <td>18.135076</td>\n",
       "    </tr>\n",
       "    <tr>\n",
       "      <th>1</th>\n",
       "      <td>127794</td>\n",
       "      <td>1688</td>\n",
       "      <td>75.707346</td>\n",
       "    </tr>\n",
       "    <tr>\n",
       "      <th>2</th>\n",
       "      <td>146035</td>\n",
       "      <td>5339</td>\n",
       "      <td>27.352500</td>\n",
       "    </tr>\n",
       "    <tr>\n",
       "      <th>3</th>\n",
       "      <td>132239</td>\n",
       "      <td>1989</td>\n",
       "      <td>66.485168</td>\n",
       "    </tr>\n",
       "    <tr>\n",
       "      <th>4</th>\n",
       "      <td>1634130</td>\n",
       "      <td>21082</td>\n",
       "      <td>77.513044</td>\n",
       "    </tr>\n",
       "    <tr>\n",
       "      <th>...</th>\n",
       "      <td>...</td>\n",
       "      <td>...</td>\n",
       "      <td>...</td>\n",
       "    </tr>\n",
       "    <tr>\n",
       "      <th>375937</th>\n",
       "      <td>38160</td>\n",
       "      <td>1385</td>\n",
       "      <td>27.552347</td>\n",
       "    </tr>\n",
       "    <tr>\n",
       "      <th>375938</th>\n",
       "      <td>60008</td>\n",
       "      <td>382</td>\n",
       "      <td>157.089005</td>\n",
       "    </tr>\n",
       "    <tr>\n",
       "      <th>375939</th>\n",
       "      <td>48068</td>\n",
       "      <td>1032</td>\n",
       "      <td>46.577519</td>\n",
       "    </tr>\n",
       "    <tr>\n",
       "      <th>375940</th>\n",
       "      <td>192957</td>\n",
       "      <td>2846</td>\n",
       "      <td>67.799368</td>\n",
       "    </tr>\n",
       "    <tr>\n",
       "      <th>375941</th>\n",
       "      <td>357079</td>\n",
       "      <td>212976</td>\n",
       "      <td>1.676616</td>\n",
       "    </tr>\n",
       "  </tbody>\n",
       "</table>\n",
       "<p>353221 rows × 3 columns</p>\n",
       "</div>"
      ],
      "text/plain": [
       "          likes  dislikes  ratio_likes_dislikes\n",
       "0        787425     43420             18.135076\n",
       "1        127794      1688             75.707346\n",
       "2        146035      5339             27.352500\n",
       "3        132239      1989             66.485168\n",
       "4       1634130     21082             77.513044\n",
       "...         ...       ...                   ...\n",
       "375937    38160      1385             27.552347\n",
       "375938    60008       382            157.089005\n",
       "375939    48068      1032             46.577519\n",
       "375940   192957      2846             67.799368\n",
       "375941   357079    212976              1.676616\n",
       "\n",
       "[353221 rows x 3 columns]"
      ]
     },
     "execution_count": 8,
     "metadata": {},
     "output_type": "execute_result"
    }
   ],
   "source": [
    "df['ratio_likes_dislikes'] = df.apply(lambda row: row['likes'] / row['dislikes'], axis=1)\n",
    "\n",
    "df[['likes', 'dislikes', 'ratio_likes_dislikes']]"
   ]
  },
  {
   "cell_type": "markdown",
   "id": "2321c1d6-dcb4-4786-8f6d-6afbbf0bdb3f",
   "metadata": {},
   "source": [
    "### Estudiar la variable objetivo"
   ]
  },
  {
   "cell_type": "markdown",
   "id": "4c7881d0-472d-46ec-bce7-ed2edc61cc45",
   "metadata": {},
   "source": [
    "Variable numérica continua con muchos valores extremos, todos válidos. 67,3% de valores únicos."
   ]
  },
  {
   "cell_type": "code",
   "execution_count": 9,
   "id": "e3639c11-8d12-4167-8bab-2127a7dde36c",
   "metadata": {},
   "outputs": [
    {
     "data": {
      "text/html": [
       "<div>\n",
       "<style scoped>\n",
       "    .dataframe tbody tr th:only-of-type {\n",
       "        vertical-align: middle;\n",
       "    }\n",
       "\n",
       "    .dataframe tbody tr th {\n",
       "        vertical-align: top;\n",
       "    }\n",
       "\n",
       "    .dataframe thead th {\n",
       "        text-align: right;\n",
       "    }\n",
       "</style>\n",
       "<table border=\"1\" class=\"dataframe\">\n",
       "  <thead>\n",
       "    <tr style=\"text-align: right;\">\n",
       "      <th></th>\n",
       "      <th>ratio_likes_dislikes</th>\n",
       "    </tr>\n",
       "  </thead>\n",
       "  <tbody>\n",
       "    <tr>\n",
       "      <th>count</th>\n",
       "      <td>353221.000000</td>\n",
       "    </tr>\n",
       "    <tr>\n",
       "      <th>mean</th>\n",
       "      <td>40.464076</td>\n",
       "    </tr>\n",
       "    <tr>\n",
       "      <th>std</th>\n",
       "      <td>68.571385</td>\n",
       "    </tr>\n",
       "    <tr>\n",
       "      <th>min</th>\n",
       "      <td>0.000000</td>\n",
       "    </tr>\n",
       "    <tr>\n",
       "      <th>25%</th>\n",
       "      <td>8.715909</td>\n",
       "    </tr>\n",
       "    <tr>\n",
       "      <th>50%</th>\n",
       "      <td>21.756757</td>\n",
       "    </tr>\n",
       "    <tr>\n",
       "      <th>75%</th>\n",
       "      <td>48.708333</td>\n",
       "    </tr>\n",
       "    <tr>\n",
       "      <th>max</th>\n",
       "      <td>11688.000000</td>\n",
       "    </tr>\n",
       "  </tbody>\n",
       "</table>\n",
       "</div>"
      ],
      "text/plain": [
       "       ratio_likes_dislikes\n",
       "count         353221.000000\n",
       "mean              40.464076\n",
       "std               68.571385\n",
       "min                0.000000\n",
       "25%                8.715909\n",
       "50%               21.756757\n",
       "75%               48.708333\n",
       "max            11688.000000"
      ]
     },
     "execution_count": 9,
     "metadata": {},
     "output_type": "execute_result"
    }
   ],
   "source": [
    "df[['ratio_likes_dislikes']].describe()"
   ]
  },
  {
   "cell_type": "code",
   "execution_count": 10,
   "id": "80993096-17b5-47a8-b906-c8001758ae26",
   "metadata": {},
   "outputs": [
    {
     "data": {
      "text/plain": [
       "ratio_likes_dislikes    237853\n",
       "dtype: int64"
      ]
     },
     "execution_count": 10,
     "metadata": {},
     "output_type": "execute_result"
    }
   ],
   "source": [
    "df[['ratio_likes_dislikes']].nunique()"
   ]
  },
  {
   "cell_type": "code",
   "execution_count": 11,
   "id": "1436d8b0-67cb-4b67-81e9-42d9df3bcf60",
   "metadata": {},
   "outputs": [
    {
     "data": {
      "text/plain": [
       "ratio_likes_dislikes\n",
       "4.000000     0.000801\n",
       "7.000000     0.000790\n",
       "6.000000     0.000725\n",
       "9.000000     0.000702\n",
       "3.000000     0.000665\n",
       "               ...   \n",
       "33.330798    0.000003\n",
       "23.398034    0.000003\n",
       "35.924282    0.000003\n",
       "23.675934    0.000003\n",
       "1.676616     0.000003\n",
       "Name: proportion, Length: 237853, dtype: float64"
      ]
     },
     "execution_count": 11,
     "metadata": {},
     "output_type": "execute_result"
    }
   ],
   "source": [
    "df['ratio_likes_dislikes'].value_counts(normalize=True)"
   ]
  },
  {
   "cell_type": "code",
   "execution_count": 12,
   "id": "e9e1e472-0493-46f3-90b0-86c84a9e78d8",
   "metadata": {},
   "outputs": [
    {
     "data": {
      "image/png": "[encoded data removed]",
      "text/plain": [
       "<Figure size 2000x500 with 1 Axes>"
      ]
     },
     "metadata": {},
     "output_type": "display_data"
    }
   ],
   "source": [
    "sns.set(font_scale=1.2)\n",
    "plt.figure(figsize=(20, 5))\n",
    "\n",
    "plt.hist(x=df['ratio_likes_dislikes'], bins=50, density=True, facecolor='g', alpha=0.5)\n",
    "plt.title('ratio_likes_dislikes')\n",
    "plt.show()"
   ]
  },
  {
   "cell_type": "code",
   "execution_count": 13,
   "id": "1221650e-f132-4ad2-a727-5c739cbb4fd5",
   "metadata": {},
   "outputs": [
    {
     "data": {
      "image/png": "[encoded data removed]",
      "text/plain": [
       "<Figure size 2000x500 with 1 Axes>"
      ]
     },
     "metadata": {},
     "output_type": "display_data"
    }
   ],
   "source": [
    "sns.set(font_scale=1.2)\n",
    "plt.figure(figsize=(20, 5))\n",
    "\n",
    "sns.boxplot(x=df['ratio_likes_dislikes'])\n",
    "plt.show()"
   ]
  },
  {
   "cell_type": "markdown",
   "id": "35bf0ae0-a1ba-4422-96aa-ad077726f60b",
   "metadata": {},
   "source": [
    "# Preprocesamiento de datos"
   ]
  },
  {
   "cell_type": "markdown",
   "id": "c79474c6-bc10-489b-be60-0fd80c2462d8",
   "metadata": {},
   "source": [
    "No vamos a hacer el estudio de la relación entre las variables y pasamos directamente a preparar el dataset para aplicar los algoritmos de Machine Learning."
   ]
  },
  {
   "cell_type": "code",
   "execution_count": 14,
   "id": "99189ce4-d149-4f7e-9561-c6e9025bb212",
   "metadata": {},
   "outputs": [
    {
     "data": {
      "text/plain": [
       "Index(['channel_title', 'tags', 'views', 'likes', 'dislikes', 'comment_count',\n",
       "       'comments_disabled', 'ratings_disabled', 'category', 'country',\n",
       "       'trending_date_year', 'trending_date_month', 'publish_time_year',\n",
       "       'publish_time_month', 'ratio_viralidad', 'ratio_interaccion_dia',\n",
       "       'publish_trending_days', 'channel_title_encoded', 'tags_encoded',\n",
       "       'category_encoded', 'country_encoded', 'views_encoded', 'likes_encoded',\n",
       "       'dislikes_encoded', 'comment_count_encoded',\n",
       "       'ratio_interaccion_dia_encoded', 'trending_date_year_encoded',\n",
       "       'publish_time_year_encoded', 'trending_date_month_encoded',\n",
       "       'publish_time_month_encoded', 'ratio_likes_dislikes'],\n",
       "      dtype='object')"
      ]
     },
     "execution_count": 14,
     "metadata": {},
     "output_type": "execute_result"
    }
   ],
   "source": [
    "df.columns"
   ]
  },
  {
   "cell_type": "markdown",
   "id": "f525a2f1-6e2f-4eb5-b4c5-ac1d962c89e9",
   "metadata": {},
   "source": [
    "### Escalado de la variable objetivo"
   ]
  },
  {
   "cell_type": "markdown",
   "id": "57386bc0-82ef-4343-809b-d5e73a311b76",
   "metadata": {},
   "source": [
    "Todas las variables del dataframe están codificadas y escaladas en el EDA, por lo que aquí sólo hay que aplicar escalado a la nueva variable ratio_likes_dislikes.<br>\n",
    "Aplicamos Standard Scaler porque tiene muchos valores extremos."
   ]
  },
  {
   "cell_type": "code",
   "execution_count": 15,
   "id": "174cafa6-1552-4a74-ba9b-8a6381277961",
   "metadata": {},
   "outputs": [],
   "source": [
    "scaler_dict = {}"
   ]
  },
  {
   "cell_type": "code",
   "execution_count": 16,
   "id": "81178465-9403-4a57-b1ab-537dc23f653b",
   "metadata": {},
   "outputs": [
    {
     "data": {
      "text/html": [
       "<div>\n",
       "<style scoped>\n",
       "    .dataframe tbody tr th:only-of-type {\n",
       "        vertical-align: middle;\n",
       "    }\n",
       "\n",
       "    .dataframe tbody tr th {\n",
       "        vertical-align: top;\n",
       "    }\n",
       "\n",
       "    .dataframe thead th {\n",
       "        text-align: right;\n",
       "    }\n",
       "</style>\n",
       "<table border=\"1\" class=\"dataframe\">\n",
       "  <thead>\n",
       "    <tr style=\"text-align: right;\">\n",
       "      <th></th>\n",
       "      <th>ratio_likes_dislikes</th>\n",
       "      <th>ratio_likes_dislikes_encoded</th>\n",
       "    </tr>\n",
       "  </thead>\n",
       "  <tbody>\n",
       "    <tr>\n",
       "      <th>0</th>\n",
       "      <td>18.135076</td>\n",
       "      <td>-0.325632</td>\n",
       "    </tr>\n",
       "    <tr>\n",
       "      <th>1</th>\n",
       "      <td>75.707346</td>\n",
       "      <td>0.513965</td>\n",
       "    </tr>\n",
       "    <tr>\n",
       "      <th>2</th>\n",
       "      <td>27.352500</td>\n",
       "      <td>-0.191211</td>\n",
       "    </tr>\n",
       "    <tr>\n",
       "      <th>3</th>\n",
       "      <td>66.485168</td>\n",
       "      <td>0.379475</td>\n",
       "    </tr>\n",
       "    <tr>\n",
       "      <th>4</th>\n",
       "      <td>77.513044</td>\n",
       "      <td>0.540299</td>\n",
       "    </tr>\n",
       "  </tbody>\n",
       "</table>\n",
       "</div>"
      ],
      "text/plain": [
       "   ratio_likes_dislikes  ratio_likes_dislikes_encoded\n",
       "0             18.135076                     -0.325632\n",
       "1             75.707346                      0.513965\n",
       "2             27.352500                     -0.191211\n",
       "3             66.485168                      0.379475\n",
       "4             77.513044                      0.540299"
      ]
     },
     "execution_count": 16,
     "metadata": {},
     "output_type": "execute_result"
    }
   ],
   "source": [
    "model_ratio_ld = StandardScaler().fit(df['ratio_likes_dislikes'].to_numpy().reshape(-1, 1))\n",
    "df['ratio_likes_dislikes_encoded'] = model_ratio_ld.transform(df['ratio_likes_dislikes'].to_numpy().reshape(-1, 1))\n",
    "scaler_dict['ratio_likes_dislikes'] = StandardScaler()\n",
    "\n",
    "df[['ratio_likes_dislikes', 'ratio_likes_dislikes_encoded']].head()"
   ]
  },
  {
   "cell_type": "markdown",
   "id": "dfda1638-4dec-40f2-be6b-c2be77f5ee67",
   "metadata": {},
   "source": [
    "### Variables de entrada y de salida"
   ]
  },
  {
   "cell_type": "code",
   "execution_count": 17,
   "id": "681fe58d-e61d-4cac-aeb6-cffec18d482d",
   "metadata": {},
   "outputs": [
    {
     "data": {
      "text/plain": [
       "Index(['channel_title', 'tags', 'views', 'likes', 'dislikes', 'comment_count',\n",
       "       'comments_disabled', 'ratings_disabled', 'category', 'country',\n",
       "       'trending_date_year', 'trending_date_month', 'publish_time_year',\n",
       "       'publish_time_month', 'ratio_viralidad', 'ratio_interaccion_dia',\n",
       "       'publish_trending_days', 'channel_title_encoded', 'tags_encoded',\n",
       "       'category_encoded', 'country_encoded', 'views_encoded', 'likes_encoded',\n",
       "       'dislikes_encoded', 'comment_count_encoded',\n",
       "       'ratio_interaccion_dia_encoded', 'trending_date_year_encoded',\n",
       "       'publish_time_year_encoded', 'trending_date_month_encoded',\n",
       "       'publish_time_month_encoded', 'ratio_likes_dislikes',\n",
       "       'ratio_likes_dislikes_encoded'],\n",
       "      dtype='object')"
      ]
     },
     "execution_count": 17,
     "metadata": {},
     "output_type": "execute_result"
    }
   ],
   "source": [
    "df.columns"
   ]
  },
  {
   "cell_type": "markdown",
   "id": "dd512c48-85a5-4d39-ae84-8f1b538b16be",
   "metadata": {},
   "source": [
    "Entre otras, eliminamos de las variables de entrada likes, likes_encoded, dislikes y dislikes_encoded."
   ]
  },
  {
   "cell_type": "code",
   "execution_count": 18,
   "id": "acabd64c-b4df-4b89-ab8f-b83eb07cf247",
   "metadata": {},
   "outputs": [
    {
     "data": {
      "text/html": [
       "<div>\n",
       "<style scoped>\n",
       "    .dataframe tbody tr th:only-of-type {\n",
       "        vertical-align: middle;\n",
       "    }\n",
       "\n",
       "    .dataframe tbody tr th {\n",
       "        vertical-align: top;\n",
       "    }\n",
       "\n",
       "    .dataframe thead th {\n",
       "        text-align: right;\n",
       "    }\n",
       "</style>\n",
       "<table border=\"1\" class=\"dataframe\">\n",
       "  <thead>\n",
       "    <tr style=\"text-align: right;\">\n",
       "      <th></th>\n",
       "      <th>channel_title_encoded</th>\n",
       "      <th>tags_encoded</th>\n",
       "      <th>views_encoded</th>\n",
       "      <th>comment_count_encoded</th>\n",
       "      <th>comments_disabled</th>\n",
       "      <th>ratings_disabled</th>\n",
       "      <th>category_encoded</th>\n",
       "      <th>country_encoded</th>\n",
       "      <th>ratio_viralidad</th>\n",
       "      <th>ratio_interaccion_dia_encoded</th>\n",
       "      <th>publish_trending_days</th>\n",
       "      <th>trending_date_year_encoded</th>\n",
       "      <th>trending_date_month_encoded</th>\n",
       "      <th>publish_time_year_encoded</th>\n",
       "      <th>publish_time_month_encoded</th>\n",
       "    </tr>\n",
       "  </thead>\n",
       "  <tbody>\n",
       "    <tr>\n",
       "      <th>0</th>\n",
       "      <td>7408</td>\n",
       "      <td>15414</td>\n",
       "      <td>2.195188</td>\n",
       "      <td>4.773962</td>\n",
       "      <td>False</td>\n",
       "      <td>False</td>\n",
       "      <td>8</td>\n",
       "      <td>0</td>\n",
       "      <td>0.055758</td>\n",
       "      <td>4.336095</td>\n",
       "      <td>3</td>\n",
       "      <td>-1.823782</td>\n",
       "      <td>0.909091</td>\n",
       "      <td>-1.758901</td>\n",
       "      <td>0.909091</td>\n",
       "    </tr>\n",
       "    <tr>\n",
       "      <th>1</th>\n",
       "      <td>28209</td>\n",
       "      <td>87447</td>\n",
       "      <td>-0.046118</td>\n",
       "      <td>0.342217</td>\n",
       "      <td>False</td>\n",
       "      <td>False</td>\n",
       "      <td>1</td>\n",
       "      <td>0</td>\n",
       "      <td>0.140454</td>\n",
       "      <td>0.455297</td>\n",
       "      <td>0</td>\n",
       "      <td>-1.823782</td>\n",
       "      <td>0.909091</td>\n",
       "      <td>-1.758901</td>\n",
       "      <td>0.909091</td>\n",
       "    </tr>\n",
       "    <tr>\n",
       "      <th>2</th>\n",
       "      <td>20687</td>\n",
       "      <td>88781</td>\n",
       "      <td>0.256091</td>\n",
       "      <td>0.151795</td>\n",
       "      <td>False</td>\n",
       "      <td>False</td>\n",
       "      <td>1</td>\n",
       "      <td>0</td>\n",
       "      <td>0.049995</td>\n",
       "      <td>0.536341</td>\n",
       "      <td>1</td>\n",
       "      <td>-1.823782</td>\n",
       "      <td>0.909091</td>\n",
       "      <td>-1.758901</td>\n",
       "      <td>0.909091</td>\n",
       "    </tr>\n",
       "    <tr>\n",
       "      <th>3</th>\n",
       "      <td>29088</td>\n",
       "      <td>91178</td>\n",
       "      <td>0.103985</td>\n",
       "      <td>0.518462</td>\n",
       "      <td>False</td>\n",
       "      <td>False</td>\n",
       "      <td>3</td>\n",
       "      <td>0</td>\n",
       "      <td>0.072404</td>\n",
       "      <td>0.499084</td>\n",
       "      <td>1</td>\n",
       "      <td>-1.823782</td>\n",
       "      <td>0.909091</td>\n",
       "      <td>-1.758901</td>\n",
       "      <td>0.909091</td>\n",
       "    </tr>\n",
       "    <tr>\n",
       "      <th>4</th>\n",
       "      <td>7030</td>\n",
       "      <td>64232</td>\n",
       "      <td>4.467192</td>\n",
       "      <td>3.171140</td>\n",
       "      <td>False</td>\n",
       "      <td>False</td>\n",
       "      <td>8</td>\n",
       "      <td>0</td>\n",
       "      <td>0.051912</td>\n",
       "      <td>8.064948</td>\n",
       "      <td>4</td>\n",
       "      <td>-1.823782</td>\n",
       "      <td>0.909091</td>\n",
       "      <td>-1.758901</td>\n",
       "      <td>0.909091</td>\n",
       "    </tr>\n",
       "    <tr>\n",
       "      <th>...</th>\n",
       "      <td>...</td>\n",
       "      <td>...</td>\n",
       "      <td>...</td>\n",
       "      <td>...</td>\n",
       "      <td>...</td>\n",
       "      <td>...</td>\n",
       "      <td>...</td>\n",
       "      <td>...</td>\n",
       "      <td>...</td>\n",
       "      <td>...</td>\n",
       "      <td>...</td>\n",
       "      <td>...</td>\n",
       "      <td>...</td>\n",
       "      <td>...</td>\n",
       "      <td>...</td>\n",
       "    </tr>\n",
       "    <tr>\n",
       "      <th>375937</th>\n",
       "      <td>910</td>\n",
       "      <td>51299</td>\n",
       "      <td>0.047033</td>\n",
       "      <td>-0.065135</td>\n",
       "      <td>False</td>\n",
       "      <td>False</td>\n",
       "      <td>12</td>\n",
       "      <td>9</td>\n",
       "      <td>0.025037</td>\n",
       "      <td>-0.007514</td>\n",
       "      <td>26</td>\n",
       "      <td>0.548311</td>\n",
       "      <td>0.454545</td>\n",
       "      <td>0.568537</td>\n",
       "      <td>0.363636</td>\n",
       "    </tr>\n",
       "    <tr>\n",
       "      <th>375938</th>\n",
       "      <td>30196</td>\n",
       "      <td>51138</td>\n",
       "      <td>-0.039156</td>\n",
       "      <td>-0.014908</td>\n",
       "      <td>False</td>\n",
       "      <td>False</td>\n",
       "      <td>11</td>\n",
       "      <td>9</td>\n",
       "      <td>0.060411</td>\n",
       "      <td>0.106453</td>\n",
       "      <td>26</td>\n",
       "      <td>0.548311</td>\n",
       "      <td>0.454545</td>\n",
       "      <td>0.568537</td>\n",
       "      <td>0.363636</td>\n",
       "    </tr>\n",
       "    <tr>\n",
       "      <th>375939</th>\n",
       "      <td>3535</td>\n",
       "      <td>21958</td>\n",
       "      <td>-0.038926</td>\n",
       "      <td>-0.012709</td>\n",
       "      <td>False</td>\n",
       "      <td>False</td>\n",
       "      <td>3</td>\n",
       "      <td>9</td>\n",
       "      <td>0.049784</td>\n",
       "      <td>0.048701</td>\n",
       "      <td>26</td>\n",
       "      <td>0.548311</td>\n",
       "      <td>0.454545</td>\n",
       "      <td>0.568537</td>\n",
       "      <td>0.363636</td>\n",
       "    </tr>\n",
       "    <tr>\n",
       "      <th>375940</th>\n",
       "      <td>10426</td>\n",
       "      <td>8106</td>\n",
       "      <td>0.598922</td>\n",
       "      <td>0.344494</td>\n",
       "      <td>False</td>\n",
       "      <td>False</td>\n",
       "      <td>4</td>\n",
       "      <td>9</td>\n",
       "      <td>0.036901</td>\n",
       "      <td>0.851151</td>\n",
       "      <td>27</td>\n",
       "      <td>0.548311</td>\n",
       "      <td>0.454545</td>\n",
       "      <td>0.568537</td>\n",
       "      <td>0.363636</td>\n",
       "    </tr>\n",
       "    <tr>\n",
       "      <th>375941</th>\n",
       "      <td>4097</td>\n",
       "      <td>58272</td>\n",
       "      <td>1.243842</td>\n",
       "      <td>5.516684</td>\n",
       "      <td>False</td>\n",
       "      <td>False</td>\n",
       "      <td>5</td>\n",
       "      <td>9</td>\n",
       "      <td>0.069362</td>\n",
       "      <td>3.457496</td>\n",
       "      <td>27</td>\n",
       "      <td>0.548311</td>\n",
       "      <td>0.454545</td>\n",
       "      <td>0.568537</td>\n",
       "      <td>0.363636</td>\n",
       "    </tr>\n",
       "  </tbody>\n",
       "</table>\n",
       "<p>353221 rows × 15 columns</p>\n",
       "</div>"
      ],
      "text/plain": [
       "        channel_title_encoded  tags_encoded  views_encoded  \\\n",
       "0                        7408         15414       2.195188   \n",
       "1                       28209         87447      -0.046118   \n",
       "2                       20687         88781       0.256091   \n",
       "3                       29088         91178       0.103985   \n",
       "4                        7030         64232       4.467192   \n",
       "...                       ...           ...            ...   \n",
       "375937                    910         51299       0.047033   \n",
       "375938                  30196         51138      -0.039156   \n",
       "375939                   3535         21958      -0.038926   \n",
       "375940                  10426          8106       0.598922   \n",
       "375941                   4097         58272       1.243842   \n",
       "\n",
       "        comment_count_encoded  comments_disabled  ratings_disabled  \\\n",
       "0                    4.773962              False             False   \n",
       "1                    0.342217              False             False   \n",
       "2                    0.151795              False             False   \n",
       "3                    0.518462              False             False   \n",
       "4                    3.171140              False             False   \n",
       "...                       ...                ...               ...   \n",
       "375937              -0.065135              False             False   \n",
       "375938              -0.014908              False             False   \n",
       "375939              -0.012709              False             False   \n",
       "375940               0.344494              False             False   \n",
       "375941               5.516684              False             False   \n",
       "\n",
       "        category_encoded  country_encoded  ratio_viralidad  \\\n",
       "0                      8                0         0.055758   \n",
       "1                      1                0         0.140454   \n",
       "2                      1                0         0.049995   \n",
       "3                      3                0         0.072404   \n",
       "4                      8                0         0.051912   \n",
       "...                  ...              ...              ...   \n",
       "375937                12                9         0.025037   \n",
       "375938                11                9         0.060411   \n",
       "375939                 3                9         0.049784   \n",
       "375940                 4                9         0.036901   \n",
       "375941                 5                9         0.069362   \n",
       "\n",
       "        ratio_interaccion_dia_encoded  publish_trending_days  \\\n",
       "0                            4.336095                      3   \n",
       "1                            0.455297                      0   \n",
       "2                            0.536341                      1   \n",
       "3                            0.499084                      1   \n",
       "4                            8.064948                      4   \n",
       "...                               ...                    ...   \n",
       "375937                      -0.007514                     26   \n",
       "375938                       0.106453                     26   \n",
       "375939                       0.048701                     26   \n",
       "375940                       0.851151                     27   \n",
       "375941                       3.457496                     27   \n",
       "\n",
       "        trending_date_year_encoded  trending_date_month_encoded  \\\n",
       "0                        -1.823782                     0.909091   \n",
       "1                        -1.823782                     0.909091   \n",
       "2                        -1.823782                     0.909091   \n",
       "3                        -1.823782                     0.909091   \n",
       "4                        -1.823782                     0.909091   \n",
       "...                            ...                          ...   \n",
       "375937                    0.548311                     0.454545   \n",
       "375938                    0.548311                     0.454545   \n",
       "375939                    0.548311                     0.454545   \n",
       "375940                    0.548311                     0.454545   \n",
       "375941                    0.548311                     0.454545   \n",
       "\n",
       "        publish_time_year_encoded  publish_time_month_encoded  \n",
       "0                       -1.758901                    0.909091  \n",
       "1                       -1.758901                    0.909091  \n",
       "2                       -1.758901                    0.909091  \n",
       "3                       -1.758901                    0.909091  \n",
       "4                       -1.758901                    0.909091  \n",
       "...                           ...                         ...  \n",
       "375937                   0.568537                    0.363636  \n",
       "375938                   0.568537                    0.363636  \n",
       "375939                   0.568537                    0.363636  \n",
       "375940                   0.568537                    0.363636  \n",
       "375941                   0.568537                    0.363636  \n",
       "\n",
       "[353221 rows x 15 columns]"
      ]
     },
     "execution_count": 18,
     "metadata": {},
     "output_type": "execute_result"
    }
   ],
   "source": [
    "X = df[['channel_title_encoded', 'tags_encoded', 'views_encoded', 'comment_count_encoded',\\\n",
    "        'comments_disabled', 'ratings_disabled', 'category_encoded', 'country_encoded', 'ratio_viralidad',\\\n",
    "        'ratio_interaccion_dia_encoded', 'publish_trending_days', 'trending_date_year_encoded',\\\n",
    "        'trending_date_month_encoded', 'publish_time_year_encoded', 'publish_time_month_encoded']]\n",
    "\n",
    "X"
   ]
  },
  {
   "cell_type": "code",
   "execution_count": 19,
   "id": "55409d94-60ad-4430-b6a3-4a3f83b07d83",
   "metadata": {},
   "outputs": [
    {
     "data": {
      "text/html": [
       "<div>\n",
       "<style scoped>\n",
       "    .dataframe tbody tr th:only-of-type {\n",
       "        vertical-align: middle;\n",
       "    }\n",
       "\n",
       "    .dataframe tbody tr th {\n",
       "        vertical-align: top;\n",
       "    }\n",
       "\n",
       "    .dataframe thead th {\n",
       "        text-align: right;\n",
       "    }\n",
       "</style>\n",
       "<table border=\"1\" class=\"dataframe\">\n",
       "  <thead>\n",
       "    <tr style=\"text-align: right;\">\n",
       "      <th></th>\n",
       "      <th>ratio_likes_dislikes_encoded</th>\n",
       "    </tr>\n",
       "  </thead>\n",
       "  <tbody>\n",
       "    <tr>\n",
       "      <th>0</th>\n",
       "      <td>-0.325632</td>\n",
       "    </tr>\n",
       "    <tr>\n",
       "      <th>1</th>\n",
       "      <td>0.513965</td>\n",
       "    </tr>\n",
       "    <tr>\n",
       "      <th>2</th>\n",
       "      <td>-0.191211</td>\n",
       "    </tr>\n",
       "    <tr>\n",
       "      <th>3</th>\n",
       "      <td>0.379475</td>\n",
       "    </tr>\n",
       "    <tr>\n",
       "      <th>4</th>\n",
       "      <td>0.540299</td>\n",
       "    </tr>\n",
       "    <tr>\n",
       "      <th>...</th>\n",
       "      <td>...</td>\n",
       "    </tr>\n",
       "    <tr>\n",
       "      <th>375937</th>\n",
       "      <td>-0.188296</td>\n",
       "    </tr>\n",
       "    <tr>\n",
       "      <th>375938</th>\n",
       "      <td>1.700784</td>\n",
       "    </tr>\n",
       "    <tr>\n",
       "      <th>375939</th>\n",
       "      <td>0.089155</td>\n",
       "    </tr>\n",
       "    <tr>\n",
       "      <th>375940</th>\n",
       "      <td>0.398640</td>\n",
       "    </tr>\n",
       "    <tr>\n",
       "      <th>375941</th>\n",
       "      <td>-0.565652</td>\n",
       "    </tr>\n",
       "  </tbody>\n",
       "</table>\n",
       "<p>353221 rows × 1 columns</p>\n",
       "</div>"
      ],
      "text/plain": [
       "        ratio_likes_dislikes_encoded\n",
       "0                          -0.325632\n",
       "1                           0.513965\n",
       "2                          -0.191211\n",
       "3                           0.379475\n",
       "4                           0.540299\n",
       "...                              ...\n",
       "375937                     -0.188296\n",
       "375938                      1.700784\n",
       "375939                      0.089155\n",
       "375940                      0.398640\n",
       "375941                     -0.565652\n",
       "\n",
       "[353221 rows x 1 columns]"
      ]
     },
     "execution_count": 19,
     "metadata": {},
     "output_type": "execute_result"
    }
   ],
   "source": [
    "y = df[['ratio_likes_dislikes_encoded']].copy(deep=True)\n",
    "y"
   ]
  },
  {
   "cell_type": "markdown",
   "id": "bfe98030-f892-4d3c-bf85-583d69486ec2",
   "metadata": {},
   "source": [
    "- <b>Mapa de correlaciones</b> de todas las variables implicadas"
   ]
  },
  {
   "cell_type": "code",
   "execution_count": 20,
   "id": "09c565aa-897d-41d0-8391-f7d44e4b3ef9",
   "metadata": {},
   "outputs": [],
   "source": [
    "X_for_corr = X.copy()\n",
    "X_for_corr['ratio_likes_dislikes'] = y"
   ]
  },
  {
   "cell_type": "code",
   "execution_count": 21,
   "id": "db613958-570c-4b73-ad9b-301d67338eab",
   "metadata": {},
   "outputs": [
    {
     "data": {
      "text/plain": [
       "Index(['channel_title_encoded', 'tags_encoded', 'views_encoded',\n",
       "       'comment_count_encoded', 'comments_disabled', 'ratings_disabled',\n",
       "       'category_encoded', 'country_encoded', 'ratio_viralidad',\n",
       "       'ratio_interaccion_dia_encoded', 'publish_trending_days',\n",
       "       'trending_date_year_encoded', 'trending_date_month_encoded',\n",
       "       'publish_time_year_encoded', 'publish_time_month_encoded',\n",
       "       'ratio_likes_dislikes'],\n",
       "      dtype='object')"
      ]
     },
     "execution_count": 21,
     "metadata": {},
     "output_type": "execute_result"
    }
   ],
   "source": [
    "X_for_corr.columns"
   ]
  },
  {
   "cell_type": "code",
   "execution_count": 22,
   "id": "e7ee65b2-0a0d-4e5d-bb2c-f854b507d9a6",
   "metadata": {},
   "outputs": [
    {
     "data": {
      "text/html": [
       "<div>\n",
       "<style scoped>\n",
       "    .dataframe tbody tr th:only-of-type {\n",
       "        vertical-align: middle;\n",
       "    }\n",
       "\n",
       "    .dataframe tbody tr th {\n",
       "        vertical-align: top;\n",
       "    }\n",
       "\n",
       "    .dataframe thead th {\n",
       "        text-align: right;\n",
       "    }\n",
       "</style>\n",
       "<table border=\"1\" class=\"dataframe\">\n",
       "  <thead>\n",
       "    <tr style=\"text-align: right;\">\n",
       "      <th></th>\n",
       "      <th>channel_title_encoded</th>\n",
       "      <th>tags_encoded</th>\n",
       "      <th>views_encoded</th>\n",
       "      <th>comment_count_encoded</th>\n",
       "      <th>comments_disabled</th>\n",
       "      <th>ratings_disabled</th>\n",
       "      <th>category_encoded</th>\n",
       "      <th>country_encoded</th>\n",
       "      <th>ratio_viralidad</th>\n",
       "      <th>ratio_interaccion_dia_encoded</th>\n",
       "      <th>publish_trending_days</th>\n",
       "      <th>trending_date_year_encoded</th>\n",
       "      <th>trending_date_month_encoded</th>\n",
       "      <th>publish_time_year_encoded</th>\n",
       "      <th>publish_time_month_encoded</th>\n",
       "      <th>ratio_likes_dislikes</th>\n",
       "    </tr>\n",
       "  </thead>\n",
       "  <tbody>\n",
       "    <tr>\n",
       "      <th>0</th>\n",
       "      <td>7408</td>\n",
       "      <td>15414</td>\n",
       "      <td>2.195188</td>\n",
       "      <td>4.773962</td>\n",
       "      <td>False</td>\n",
       "      <td>False</td>\n",
       "      <td>8</td>\n",
       "      <td>0</td>\n",
       "      <td>0.055758</td>\n",
       "      <td>4.336095</td>\n",
       "      <td>3</td>\n",
       "      <td>-1.823782</td>\n",
       "      <td>0.909091</td>\n",
       "      <td>-1.758901</td>\n",
       "      <td>0.909091</td>\n",
       "      <td>-0.325632</td>\n",
       "    </tr>\n",
       "    <tr>\n",
       "      <th>1</th>\n",
       "      <td>28209</td>\n",
       "      <td>87447</td>\n",
       "      <td>-0.046118</td>\n",
       "      <td>0.342217</td>\n",
       "      <td>False</td>\n",
       "      <td>False</td>\n",
       "      <td>1</td>\n",
       "      <td>0</td>\n",
       "      <td>0.140454</td>\n",
       "      <td>0.455297</td>\n",
       "      <td>0</td>\n",
       "      <td>-1.823782</td>\n",
       "      <td>0.909091</td>\n",
       "      <td>-1.758901</td>\n",
       "      <td>0.909091</td>\n",
       "      <td>0.513965</td>\n",
       "    </tr>\n",
       "    <tr>\n",
       "      <th>2</th>\n",
       "      <td>20687</td>\n",
       "      <td>88781</td>\n",
       "      <td>0.256091</td>\n",
       "      <td>0.151795</td>\n",
       "      <td>False</td>\n",
       "      <td>False</td>\n",
       "      <td>1</td>\n",
       "      <td>0</td>\n",
       "      <td>0.049995</td>\n",
       "      <td>0.536341</td>\n",
       "      <td>1</td>\n",
       "      <td>-1.823782</td>\n",
       "      <td>0.909091</td>\n",
       "      <td>-1.758901</td>\n",
       "      <td>0.909091</td>\n",
       "      <td>-0.191211</td>\n",
       "    </tr>\n",
       "    <tr>\n",
       "      <th>3</th>\n",
       "      <td>29088</td>\n",
       "      <td>91178</td>\n",
       "      <td>0.103985</td>\n",
       "      <td>0.518462</td>\n",
       "      <td>False</td>\n",
       "      <td>False</td>\n",
       "      <td>3</td>\n",
       "      <td>0</td>\n",
       "      <td>0.072404</td>\n",
       "      <td>0.499084</td>\n",
       "      <td>1</td>\n",
       "      <td>-1.823782</td>\n",
       "      <td>0.909091</td>\n",
       "      <td>-1.758901</td>\n",
       "      <td>0.909091</td>\n",
       "      <td>0.379475</td>\n",
       "    </tr>\n",
       "    <tr>\n",
       "      <th>4</th>\n",
       "      <td>7030</td>\n",
       "      <td>64232</td>\n",
       "      <td>4.467192</td>\n",
       "      <td>3.171140</td>\n",
       "      <td>False</td>\n",
       "      <td>False</td>\n",
       "      <td>8</td>\n",
       "      <td>0</td>\n",
       "      <td>0.051912</td>\n",
       "      <td>8.064948</td>\n",
       "      <td>4</td>\n",
       "      <td>-1.823782</td>\n",
       "      <td>0.909091</td>\n",
       "      <td>-1.758901</td>\n",
       "      <td>0.909091</td>\n",
       "      <td>0.540299</td>\n",
       "    </tr>\n",
       "  </tbody>\n",
       "</table>\n",
       "</div>"
      ],
      "text/plain": [
       "   channel_title_encoded  tags_encoded  views_encoded  comment_count_encoded  \\\n",
       "0                   7408         15414       2.195188               4.773962   \n",
       "1                  28209         87447      -0.046118               0.342217   \n",
       "2                  20687         88781       0.256091               0.151795   \n",
       "3                  29088         91178       0.103985               0.518462   \n",
       "4                   7030         64232       4.467192               3.171140   \n",
       "\n",
       "   comments_disabled  ratings_disabled  category_encoded  country_encoded  \\\n",
       "0              False             False                 8                0   \n",
       "1              False             False                 1                0   \n",
       "2              False             False                 1                0   \n",
       "3              False             False                 3                0   \n",
       "4              False             False                 8                0   \n",
       "\n",
       "   ratio_viralidad  ratio_interaccion_dia_encoded  publish_trending_days  \\\n",
       "0         0.055758                       4.336095                      3   \n",
       "1         0.140454                       0.455297                      0   \n",
       "2         0.049995                       0.536341                      1   \n",
       "3         0.072404                       0.499084                      1   \n",
       "4         0.051912                       8.064948                      4   \n",
       "\n",
       "   trending_date_year_encoded  trending_date_month_encoded  \\\n",
       "0                   -1.823782                     0.909091   \n",
       "1                   -1.823782                     0.909091   \n",
       "2                   -1.823782                     0.909091   \n",
       "3                   -1.823782                     0.909091   \n",
       "4                   -1.823782                     0.909091   \n",
       "\n",
       "   publish_time_year_encoded  publish_time_month_encoded  ratio_likes_dislikes  \n",
       "0                  -1.758901                    0.909091             -0.325632  \n",
       "1                  -1.758901                    0.909091              0.513965  \n",
       "2                  -1.758901                    0.909091             -0.191211  \n",
       "3                  -1.758901                    0.909091              0.379475  \n",
       "4                  -1.758901                    0.909091              0.540299  "
      ]
     },
     "execution_count": 22,
     "metadata": {},
     "output_type": "execute_result"
    }
   ],
   "source": [
    "X_for_corr.head()"
   ]
  },
  {
   "cell_type": "code",
   "execution_count": 23,
   "id": "9b40fd42-aaa4-42ac-ae62-efe768f11b74",
   "metadata": {},
   "outputs": [],
   "source": [
    "corr_matrix = X_for_corr.corr()"
   ]
  },
  {
   "cell_type": "code",
   "execution_count": 24,
   "id": "6d2bf43c-64a8-4f4e-9ddb-58cc0c22ac50",
   "metadata": {},
   "outputs": [
    {
     "data": {
      "image/png": "[encoded data removed]",
      "text/plain": [
       "<Figure size 2000x1000 with 2 Axes>"
      ]
     },
     "metadata": {},
     "output_type": "display_data"
    }
   ],
   "source": [
    "plt.figure(figsize=(20, 10))\n",
    "sns.heatmap(corr_matrix, annot=True, cmap=sns.diverging_palette(20, 220, n=256), vmin=-1, vmax=1)\n",
    "plt.show()"
   ]
  },
  {
   "cell_type": "markdown",
   "id": "30f0413e-6604-401f-b626-35f778298d8c",
   "metadata": {},
   "source": [
    "Sólo tenemos correlación lineal media entre la variable objetivo, ratio_likes_dislikes, y ratio_viralidad. Con las demás variables independientes no hay correlación lineal."
   ]
  },
  {
   "cell_type": "markdown",
   "id": "267cb260-d5ad-4544-b691-2d0e10673e13",
   "metadata": {},
   "source": [
    "- <b>Entrenamiento y validación</b>"
   ]
  },
  {
   "cell_type": "code",
   "execution_count": 25,
   "id": "6efd2ef3-4a65-42b3-8d88-6fa691b10620",
   "metadata": {},
   "outputs": [
    {
     "data": {
      "text/plain": [
       "Index(['channel_title_encoded', 'tags_encoded', 'views_encoded',\n",
       "       'comment_count_encoded', 'comments_disabled', 'ratings_disabled',\n",
       "       'category_encoded', 'country_encoded', 'ratio_viralidad',\n",
       "       'ratio_interaccion_dia_encoded', 'publish_trending_days',\n",
       "       'trending_date_year_encoded', 'trending_date_month_encoded',\n",
       "       'publish_time_year_encoded', 'publish_time_month_encoded'],\n",
       "      dtype='object')"
      ]
     },
     "execution_count": 25,
     "metadata": {},
     "output_type": "execute_result"
    }
   ],
   "source": [
    "X.columns"
   ]
  },
  {
   "cell_type": "code",
   "execution_count": 26,
   "id": "d64046e7-4a40-4275-a906-560d49639d17",
   "metadata": {},
   "outputs": [
    {
     "data": {
      "text/html": [
       "<div>\n",
       "<style scoped>\n",
       "    .dataframe tbody tr th:only-of-type {\n",
       "        vertical-align: middle;\n",
       "    }\n",
       "\n",
       "    .dataframe tbody tr th {\n",
       "        vertical-align: top;\n",
       "    }\n",
       "\n",
       "    .dataframe thead th {\n",
       "        text-align: right;\n",
       "    }\n",
       "</style>\n",
       "<table border=\"1\" class=\"dataframe\">\n",
       "  <thead>\n",
       "    <tr style=\"text-align: right;\">\n",
       "      <th></th>\n",
       "      <th>channel_title_encoded</th>\n",
       "      <th>tags_encoded</th>\n",
       "      <th>views_encoded</th>\n",
       "      <th>comment_count_encoded</th>\n",
       "      <th>comments_disabled</th>\n",
       "      <th>ratings_disabled</th>\n",
       "      <th>category_encoded</th>\n",
       "      <th>country_encoded</th>\n",
       "      <th>ratio_viralidad</th>\n",
       "      <th>ratio_interaccion_dia_encoded</th>\n",
       "      <th>publish_trending_days</th>\n",
       "      <th>trending_date_year_encoded</th>\n",
       "      <th>trending_date_month_encoded</th>\n",
       "      <th>publish_time_year_encoded</th>\n",
       "      <th>publish_time_month_encoded</th>\n",
       "    </tr>\n",
       "  </thead>\n",
       "  <tbody>\n",
       "    <tr>\n",
       "      <th>0</th>\n",
       "      <td>7408</td>\n",
       "      <td>15414</td>\n",
       "      <td>2.195188</td>\n",
       "      <td>4.773962</td>\n",
       "      <td>False</td>\n",
       "      <td>False</td>\n",
       "      <td>8</td>\n",
       "      <td>0</td>\n",
       "      <td>0.055758</td>\n",
       "      <td>4.336095</td>\n",
       "      <td>3</td>\n",
       "      <td>-1.823782</td>\n",
       "      <td>0.909091</td>\n",
       "      <td>-1.758901</td>\n",
       "      <td>0.909091</td>\n",
       "    </tr>\n",
       "    <tr>\n",
       "      <th>1</th>\n",
       "      <td>28209</td>\n",
       "      <td>87447</td>\n",
       "      <td>-0.046118</td>\n",
       "      <td>0.342217</td>\n",
       "      <td>False</td>\n",
       "      <td>False</td>\n",
       "      <td>1</td>\n",
       "      <td>0</td>\n",
       "      <td>0.140454</td>\n",
       "      <td>0.455297</td>\n",
       "      <td>0</td>\n",
       "      <td>-1.823782</td>\n",
       "      <td>0.909091</td>\n",
       "      <td>-1.758901</td>\n",
       "      <td>0.909091</td>\n",
       "    </tr>\n",
       "    <tr>\n",
       "      <th>2</th>\n",
       "      <td>20687</td>\n",
       "      <td>88781</td>\n",
       "      <td>0.256091</td>\n",
       "      <td>0.151795</td>\n",
       "      <td>False</td>\n",
       "      <td>False</td>\n",
       "      <td>1</td>\n",
       "      <td>0</td>\n",
       "      <td>0.049995</td>\n",
       "      <td>0.536341</td>\n",
       "      <td>1</td>\n",
       "      <td>-1.823782</td>\n",
       "      <td>0.909091</td>\n",
       "      <td>-1.758901</td>\n",
       "      <td>0.909091</td>\n",
       "    </tr>\n",
       "    <tr>\n",
       "      <th>3</th>\n",
       "      <td>29088</td>\n",
       "      <td>91178</td>\n",
       "      <td>0.103985</td>\n",
       "      <td>0.518462</td>\n",
       "      <td>False</td>\n",
       "      <td>False</td>\n",
       "      <td>3</td>\n",
       "      <td>0</td>\n",
       "      <td>0.072404</td>\n",
       "      <td>0.499084</td>\n",
       "      <td>1</td>\n",
       "      <td>-1.823782</td>\n",
       "      <td>0.909091</td>\n",
       "      <td>-1.758901</td>\n",
       "      <td>0.909091</td>\n",
       "    </tr>\n",
       "    <tr>\n",
       "      <th>4</th>\n",
       "      <td>7030</td>\n",
       "      <td>64232</td>\n",
       "      <td>4.467192</td>\n",
       "      <td>3.171140</td>\n",
       "      <td>False</td>\n",
       "      <td>False</td>\n",
       "      <td>8</td>\n",
       "      <td>0</td>\n",
       "      <td>0.051912</td>\n",
       "      <td>8.064948</td>\n",
       "      <td>4</td>\n",
       "      <td>-1.823782</td>\n",
       "      <td>0.909091</td>\n",
       "      <td>-1.758901</td>\n",
       "      <td>0.909091</td>\n",
       "    </tr>\n",
       "    <tr>\n",
       "      <th>...</th>\n",
       "      <td>...</td>\n",
       "      <td>...</td>\n",
       "      <td>...</td>\n",
       "      <td>...</td>\n",
       "      <td>...</td>\n",
       "      <td>...</td>\n",
       "      <td>...</td>\n",
       "      <td>...</td>\n",
       "      <td>...</td>\n",
       "      <td>...</td>\n",
       "      <td>...</td>\n",
       "      <td>...</td>\n",
       "      <td>...</td>\n",
       "      <td>...</td>\n",
       "      <td>...</td>\n",
       "    </tr>\n",
       "    <tr>\n",
       "      <th>375937</th>\n",
       "      <td>910</td>\n",
       "      <td>51299</td>\n",
       "      <td>0.047033</td>\n",
       "      <td>-0.065135</td>\n",
       "      <td>False</td>\n",
       "      <td>False</td>\n",
       "      <td>12</td>\n",
       "      <td>9</td>\n",
       "      <td>0.025037</td>\n",
       "      <td>-0.007514</td>\n",
       "      <td>26</td>\n",
       "      <td>0.548311</td>\n",
       "      <td>0.454545</td>\n",
       "      <td>0.568537</td>\n",
       "      <td>0.363636</td>\n",
       "    </tr>\n",
       "    <tr>\n",
       "      <th>375938</th>\n",
       "      <td>30196</td>\n",
       "      <td>51138</td>\n",
       "      <td>-0.039156</td>\n",
       "      <td>-0.014908</td>\n",
       "      <td>False</td>\n",
       "      <td>False</td>\n",
       "      <td>11</td>\n",
       "      <td>9</td>\n",
       "      <td>0.060411</td>\n",
       "      <td>0.106453</td>\n",
       "      <td>26</td>\n",
       "      <td>0.548311</td>\n",
       "      <td>0.454545</td>\n",
       "      <td>0.568537</td>\n",
       "      <td>0.363636</td>\n",
       "    </tr>\n",
       "    <tr>\n",
       "      <th>375939</th>\n",
       "      <td>3535</td>\n",
       "      <td>21958</td>\n",
       "      <td>-0.038926</td>\n",
       "      <td>-0.012709</td>\n",
       "      <td>False</td>\n",
       "      <td>False</td>\n",
       "      <td>3</td>\n",
       "      <td>9</td>\n",
       "      <td>0.049784</td>\n",
       "      <td>0.048701</td>\n",
       "      <td>26</td>\n",
       "      <td>0.548311</td>\n",
       "      <td>0.454545</td>\n",
       "      <td>0.568537</td>\n",
       "      <td>0.363636</td>\n",
       "    </tr>\n",
       "    <tr>\n",
       "      <th>375940</th>\n",
       "      <td>10426</td>\n",
       "      <td>8106</td>\n",
       "      <td>0.598922</td>\n",
       "      <td>0.344494</td>\n",
       "      <td>False</td>\n",
       "      <td>False</td>\n",
       "      <td>4</td>\n",
       "      <td>9</td>\n",
       "      <td>0.036901</td>\n",
       "      <td>0.851151</td>\n",
       "      <td>27</td>\n",
       "      <td>0.548311</td>\n",
       "      <td>0.454545</td>\n",
       "      <td>0.568537</td>\n",
       "      <td>0.363636</td>\n",
       "    </tr>\n",
       "    <tr>\n",
       "      <th>375941</th>\n",
       "      <td>4097</td>\n",
       "      <td>58272</td>\n",
       "      <td>1.243842</td>\n",
       "      <td>5.516684</td>\n",
       "      <td>False</td>\n",
       "      <td>False</td>\n",
       "      <td>5</td>\n",
       "      <td>9</td>\n",
       "      <td>0.069362</td>\n",
       "      <td>3.457496</td>\n",
       "      <td>27</td>\n",
       "      <td>0.548311</td>\n",
       "      <td>0.454545</td>\n",
       "      <td>0.568537</td>\n",
       "      <td>0.363636</td>\n",
       "    </tr>\n",
       "  </tbody>\n",
       "</table>\n",
       "<p>353221 rows × 15 columns</p>\n",
       "</div>"
      ],
      "text/plain": [
       "        channel_title_encoded  tags_encoded  views_encoded  \\\n",
       "0                        7408         15414       2.195188   \n",
       "1                       28209         87447      -0.046118   \n",
       "2                       20687         88781       0.256091   \n",
       "3                       29088         91178       0.103985   \n",
       "4                        7030         64232       4.467192   \n",
       "...                       ...           ...            ...   \n",
       "375937                    910         51299       0.047033   \n",
       "375938                  30196         51138      -0.039156   \n",
       "375939                   3535         21958      -0.038926   \n",
       "375940                  10426          8106       0.598922   \n",
       "375941                   4097         58272       1.243842   \n",
       "\n",
       "        comment_count_encoded  comments_disabled  ratings_disabled  \\\n",
       "0                    4.773962              False             False   \n",
       "1                    0.342217              False             False   \n",
       "2                    0.151795              False             False   \n",
       "3                    0.518462              False             False   \n",
       "4                    3.171140              False             False   \n",
       "...                       ...                ...               ...   \n",
       "375937              -0.065135              False             False   \n",
       "375938              -0.014908              False             False   \n",
       "375939              -0.012709              False             False   \n",
       "375940               0.344494              False             False   \n",
       "375941               5.516684              False             False   \n",
       "\n",
       "        category_encoded  country_encoded  ratio_viralidad  \\\n",
       "0                      8                0         0.055758   \n",
       "1                      1                0         0.140454   \n",
       "2                      1                0         0.049995   \n",
       "3                      3                0         0.072404   \n",
       "4                      8                0         0.051912   \n",
       "...                  ...              ...              ...   \n",
       "375937                12                9         0.025037   \n",
       "375938                11                9         0.060411   \n",
       "375939                 3                9         0.049784   \n",
       "375940                 4                9         0.036901   \n",
       "375941                 5                9         0.069362   \n",
       "\n",
       "        ratio_interaccion_dia_encoded  publish_trending_days  \\\n",
       "0                            4.336095                      3   \n",
       "1                            0.455297                      0   \n",
       "2                            0.536341                      1   \n",
       "3                            0.499084                      1   \n",
       "4                            8.064948                      4   \n",
       "...                               ...                    ...   \n",
       "375937                      -0.007514                     26   \n",
       "375938                       0.106453                     26   \n",
       "375939                       0.048701                     26   \n",
       "375940                       0.851151                     27   \n",
       "375941                       3.457496                     27   \n",
       "\n",
       "        trending_date_year_encoded  trending_date_month_encoded  \\\n",
       "0                        -1.823782                     0.909091   \n",
       "1                        -1.823782                     0.909091   \n",
       "2                        -1.823782                     0.909091   \n",
       "3                        -1.823782                     0.909091   \n",
       "4                        -1.823782                     0.909091   \n",
       "...                            ...                          ...   \n",
       "375937                    0.548311                     0.454545   \n",
       "375938                    0.548311                     0.454545   \n",
       "375939                    0.548311                     0.454545   \n",
       "375940                    0.548311                     0.454545   \n",
       "375941                    0.548311                     0.454545   \n",
       "\n",
       "        publish_time_year_encoded  publish_time_month_encoded  \n",
       "0                       -1.758901                    0.909091  \n",
       "1                       -1.758901                    0.909091  \n",
       "2                       -1.758901                    0.909091  \n",
       "3                       -1.758901                    0.909091  \n",
       "4                       -1.758901                    0.909091  \n",
       "...                           ...                         ...  \n",
       "375937                   0.568537                    0.363636  \n",
       "375938                   0.568537                    0.363636  \n",
       "375939                   0.568537                    0.363636  \n",
       "375940                   0.568537                    0.363636  \n",
       "375941                   0.568537                    0.363636  \n",
       "\n",
       "[353221 rows x 15 columns]"
      ]
     },
     "execution_count": 26,
     "metadata": {},
     "output_type": "execute_result"
    }
   ],
   "source": [
    "X"
   ]
  },
  {
   "cell_type": "code",
   "execution_count": 27,
   "id": "d5da7ca1-6dc1-4f67-ae1c-a9ed149a41be",
   "metadata": {},
   "outputs": [
    {
     "data": {
      "text/html": [
       "<div>\n",
       "<style scoped>\n",
       "    .dataframe tbody tr th:only-of-type {\n",
       "        vertical-align: middle;\n",
       "    }\n",
       "\n",
       "    .dataframe tbody tr th {\n",
       "        vertical-align: top;\n",
       "    }\n",
       "\n",
       "    .dataframe thead th {\n",
       "        text-align: right;\n",
       "    }\n",
       "</style>\n",
       "<table border=\"1\" class=\"dataframe\">\n",
       "  <thead>\n",
       "    <tr style=\"text-align: right;\">\n",
       "      <th></th>\n",
       "      <th>ratio_likes_dislikes_encoded</th>\n",
       "    </tr>\n",
       "  </thead>\n",
       "  <tbody>\n",
       "    <tr>\n",
       "      <th>0</th>\n",
       "      <td>-0.325632</td>\n",
       "    </tr>\n",
       "    <tr>\n",
       "      <th>1</th>\n",
       "      <td>0.513965</td>\n",
       "    </tr>\n",
       "    <tr>\n",
       "      <th>2</th>\n",
       "      <td>-0.191211</td>\n",
       "    </tr>\n",
       "    <tr>\n",
       "      <th>3</th>\n",
       "      <td>0.379475</td>\n",
       "    </tr>\n",
       "    <tr>\n",
       "      <th>4</th>\n",
       "      <td>0.540299</td>\n",
       "    </tr>\n",
       "    <tr>\n",
       "      <th>...</th>\n",
       "      <td>...</td>\n",
       "    </tr>\n",
       "    <tr>\n",
       "      <th>375937</th>\n",
       "      <td>-0.188296</td>\n",
       "    </tr>\n",
       "    <tr>\n",
       "      <th>375938</th>\n",
       "      <td>1.700784</td>\n",
       "    </tr>\n",
       "    <tr>\n",
       "      <th>375939</th>\n",
       "      <td>0.089155</td>\n",
       "    </tr>\n",
       "    <tr>\n",
       "      <th>375940</th>\n",
       "      <td>0.398640</td>\n",
       "    </tr>\n",
       "    <tr>\n",
       "      <th>375941</th>\n",
       "      <td>-0.565652</td>\n",
       "    </tr>\n",
       "  </tbody>\n",
       "</table>\n",
       "<p>353221 rows × 1 columns</p>\n",
       "</div>"
      ],
      "text/plain": [
       "        ratio_likes_dislikes_encoded\n",
       "0                          -0.325632\n",
       "1                           0.513965\n",
       "2                          -0.191211\n",
       "3                           0.379475\n",
       "4                           0.540299\n",
       "...                              ...\n",
       "375937                     -0.188296\n",
       "375938                      1.700784\n",
       "375939                      0.089155\n",
       "375940                      0.398640\n",
       "375941                     -0.565652\n",
       "\n",
       "[353221 rows x 1 columns]"
      ]
     },
     "execution_count": 27,
     "metadata": {},
     "output_type": "execute_result"
    }
   ],
   "source": [
    "y"
   ]
  },
  {
   "cell_type": "code",
   "execution_count": 28,
   "id": "0f945455-9523-468b-b6dc-95686be7d2b8",
   "metadata": {},
   "outputs": [],
   "source": [
    "X_train, X_test, y_train, y_test = train_test_split(X, y, test_size=0.3, random_state=42)"
   ]
  },
  {
   "cell_type": "markdown",
   "id": "12c61e8a-3450-41d6-b9e0-9bd516356a0b",
   "metadata": {},
   "source": [
    "# Regresión Lineal"
   ]
  },
  {
   "cell_type": "markdown",
   "id": "17829e26-969c-473f-92e5-c46d848ac704",
   "metadata": {},
   "source": [
    "Sólo hay correlación lineal media de la variable objetivo con una de las variables independientes, y no hay correlación con las demás, por lo que no vamos a usar Regresión Lineal."
   ]
  },
  {
   "cell_type": "markdown",
   "id": "2c8d09d1-0c04-4599-8851-ea96c19df6db",
   "metadata": {},
   "source": [
    "# MLP (Perceptrones Multicapa)"
   ]
  },
  {
   "cell_type": "code",
   "execution_count": 29,
   "id": "b504bce8-b881-4fe4-996b-fe8a33e9d2a1",
   "metadata": {},
   "outputs": [],
   "source": [
    "reg_MLP = MLPRegressor(random_state=42, verbose=1)"
   ]
  },
  {
   "cell_type": "markdown",
   "id": "a265ee81-0bdc-4911-9b27-b012c261b8fe",
   "metadata": {},
   "source": [
    "<b>Randomized Search</b>"
   ]
  },
  {
   "cell_type": "code",
   "execution_count": 30,
   "id": "0beb0d95-c506-4e55-8b4f-eff6c977acaa",
   "metadata": {},
   "outputs": [],
   "source": [
    "hidden_layer_sizes_rs_MLP=[(100,), (100, 100)]   # (100,) / tamaño capas ocultas\n",
    "activation_rs_MLP=['logistic', 'identity']   #'relu': función de activación; ‘identity’, ‘logistic’, ‘tanh’\n",
    "alpha_rs_MLP=[0.0005, 0.001]   # 0.0001 / coef. de regularización L2, controla el sobreajuste (mayor > aprendizaje conservador, menor prob. sobreajuste)\n",
    "batch_size_rs_MLP=['auto']   # 'auto': tamaño de los lotes en que se divide el dataset; menor, más preciso pero más lento; 'auto': batch_size=min(200, n_samples)\n",
    "learning_rate_rs_MLP=['constant', 'invscaling']   # 'constant' / ritmo de aprendizaje; invscaling: disminuye la tasa de aprendizaje a medida que avanzan las iteraciones; adaptive: tasa constante, se reduce si el error en la validación deja de mejorar\n",
    "max_iter_rs_MLP=[100, 200]   # 200: número de épocas (cuántas veces se utiliza cada punto de datos), no número de pasos del gradiente\n",
    "shuffle_rs_MLP=[True]   # True: baraja aleatoriamente los datos\n",
    "early_stopping_rs_MLP=[True]\n",
    "n_iter_no_change_rs_MLP=[50, 100]   # 10 / uso con early_stopping\n",
    "\n",
    "random_grid_rs_MLP = {'hidden_layer_sizes': hidden_layer_sizes_rs_MLP, 'activation': activation_rs_MLP, 'alpha': alpha_rs_MLP, 'batch_size':batch_size_rs_MLP,\\\n",
    "                      'learning_rate': learning_rate_rs_MLP, 'max_iter': max_iter_rs_MLP, 'shuffle': shuffle_rs_MLP, 'early_stopping':early_stopping_rs_MLP, 'n_iter_no_change':n_iter_no_change_rs_MLP}"
   ]
  },
  {
   "cell_type": "code",
   "execution_count": 31,
   "id": "c1dc5e6b-1c9a-48a6-9ea6-589a9d188ad3",
   "metadata": {
    "scrolled": true
   },
   "outputs": [
    {
     "name": "stdout",
     "output_type": "stream",
     "text": [
      "Iterando...\n",
      "Fitting 5 folds for each of 20 candidates, totalling 100 fits\n",
      "Iteration 1, loss = 126474.11396226\n",
      "Validation score: -3.856610\n",
      "Iteration 2, loss = 1.66109062\n",
      "Validation score: -2.197264\n",
      "Iteration 3, loss = 1.14567707\n",
      "Validation score: -0.977097\n",
      "Iteration 4, loss = 1065.10129192\n",
      "Validation score: -3.413070\n",
      "Iteration 5, loss = 1436.56123704\n",
      "Validation score: -254.712712\n",
      "Iteration 6, loss = 1596.29705841\n",
      "Validation score: -938.483341\n",
      "Iteration 7, loss = 1755.11942564\n",
      "Validation score: -11.892477\n",
      "Iteration 8, loss = 1768.24327169\n",
      "Validation score: -3.465606\n",
      "Iteration 9, loss = 1489.91172423\n",
      "Validation score: -6.802053\n",
      "Iteration 10, loss = 2604.55792362\n",
      "Validation score: -0.289428\n",
      "Iteration 11, loss = 1208.94519768\n",
      "Validation score: -1.699185\n",
      "Iteration 12, loss = 1887.05102689\n",
      "Validation score: -1.363410\n",
      "Iteration 13, loss = 1076.74501389\n",
      "Validation score: -234.932382\n",
      "Iteration 14, loss = 1670.90726552\n",
      "Validation score: -124957.957947\n",
      "Iteration 15, loss = 2246.90373191\n",
      "Validation score: -2.508976\n",
      "Iteration 16, loss = 657.32012040\n",
      "Validation score: -164.828305\n",
      "Iteration 17, loss = 2559.06475306\n",
      "Validation score: -54.870196\n",
      "Iteration 18, loss = 798.86357014\n",
      "Validation score: -7.683083\n",
      "Iteration 19, loss = 1836.77846944\n",
      "Validation score: -0.817681\n",
      "Iteration 20, loss = 982.09422368\n",
      "Validation score: -1114.279635\n",
      "Iteration 21, loss = 1202.27812545\n",
      "Validation score: -59.184790\n",
      "Iteration 22, loss = 1666.74823545\n",
      "Validation score: -383.873623\n",
      "Iteration 23, loss = 1930.36486948\n",
      "Validation score: -14.112317\n",
      "Iteration 24, loss = 1268.32921350\n",
      "Validation score: -12.579081\n",
      "Iteration 25, loss = 1727.92731651\n",
      "Validation score: -9.378408\n",
      "Iteration 26, loss = 1306.97821835\n",
      "Validation score: -1.958702\n",
      "Iteration 27, loss = 1096.48868703\n",
      "Validation score: -2640.823225\n",
      "Iteration 28, loss = 1533.67290350\n",
      "Validation score: -3.017854\n",
      "Iteration 29, loss = 885.14599137\n",
      "Validation score: -0.249353\n",
      "Iteration 30, loss = 1828.65559009\n",
      "Validation score: -3.446534\n",
      "Iteration 31, loss = 860.26769669\n",
      "Validation score: -524.525644\n",
      "Iteration 32, loss = 1815.44895166\n",
      "Validation score: -0.794543\n",
      "Iteration 33, loss = 883.13764044\n",
      "Validation score: -0.474204\n",
      "Iteration 34, loss = 1236.24780653\n",
      "Validation score: -0.269580\n",
      "Iteration 35, loss = 1260.34854755\n",
      "Validation score: -12.537441\n",
      "Iteration 36, loss = 2172.87504542\n",
      "Validation score: -0.247212\n",
      "Iteration 37, loss = 420.16085831\n",
      "Validation score: -1204.167077\n",
      "Iteration 38, loss = 1816.94799141\n",
      "Validation score: -179.735237\n",
      "Iteration 39, loss = 569.21277318\n",
      "Validation score: -11.275786\n",
      "Iteration 40, loss = 1014.94924856\n",
      "Validation score: -1455.717688\n",
      "Iteration 41, loss = 1500.03947046\n",
      "Validation score: -11.177102\n",
      "Iteration 42, loss = 845.64805571\n",
      "Validation score: -329.234942\n",
      "Iteration 43, loss = 995.91148056\n",
      "Validation score: -1194.670243\n",
      "Iteration 44, loss = 1572.27211437\n",
      "Validation score: -0.010564\n",
      "Iteration 45, loss = 961.01645861\n",
      "Validation score: -98964.637162\n",
      "Iteration 46, loss = 1129.61265428\n",
      "Validation score: -28.914741\n",
      "Iteration 47, loss = 1173.55262105\n",
      "Validation score: -1.423291\n",
      "Iteration 48, loss = 1298.07577080\n",
      "Validation score: -119.225422\n",
      "Iteration 49, loss = 870.76107880\n",
      "Validation score: -0.049891\n",
      "Iteration 50, loss = 1461.93607651\n",
      "Validation score: -1.007679\n",
      "Iteration 51, loss = 868.23339415\n",
      "Validation score: -117.048007\n",
      "Iteration 52, loss = 955.54685960\n",
      "Validation score: -9552.828512\n",
      "Iteration 53, loss = 1109.83818731\n",
      "Validation score: -3851.334810\n",
      "Iteration 54, loss = 2704.98354993\n",
      "Validation score: -0.049698\n",
      "Iteration 55, loss = 1.29623499\n",
      "Validation score: -0.348111\n",
      "Iteration 56, loss = 1001.00728461\n",
      "Validation score: -0.933268\n",
      "Iteration 57, loss = 1175.71935274\n",
      "Validation score: -22.461262\n",
      "Iteration 58, loss = 1069.93317790\n",
      "Validation score: -2.851356\n",
      "Iteration 59, loss = 801.64669525\n",
      "Validation score: -50.349512\n",
      "Iteration 60, loss = 1284.08186947\n",
      "Validation score: -7.248314\n",
      "Iteration 61, loss = 2269.09644810\n",
      "Validation score: -1.813735\n",
      "Iteration 62, loss = 403.66217626\n",
      "Validation score: -0.313853\n",
      "Iteration 63, loss = 809.35056600\n",
      "Validation score: -4283.757130\n",
      "Iteration 64, loss = 929.47251400\n",
      "Validation score: -0.434937\n",
      "Iteration 65, loss = 978.44204880\n",
      "Validation score: -2.187871\n",
      "Iteration 66, loss = 848.06577604\n",
      "Validation score: -9.417325\n",
      "Iteration 67, loss = 1063.83850523\n",
      "Validation score: -702.223885\n",
      "Iteration 68, loss = 717.74056829\n",
      "Validation score: -0.076514\n",
      "Iteration 69, loss = 666.77931958\n",
      "Validation score: -76.984761\n",
      "Iteration 70, loss = 1105.33248879\n",
      "Validation score: -946.382314\n",
      "Iteration 71, loss = 939.15365864\n",
      "Validation score: -0.488877\n",
      "Iteration 72, loss = 954.53934309\n",
      "Validation score: -0.181746\n",
      "Iteration 73, loss = 739.52880038\n",
      "Validation score: -49.292971\n",
      "Iteration 74, loss = 1104.94114406\n",
      "Validation score: -0.072717\n",
      "Iteration 75, loss = 717.16968576\n",
      "Validation score: -2.593707\n",
      "Iteration 76, loss = 943.28451996\n",
      "Validation score: -28.807208\n",
      "Iteration 77, loss = 1361.07903034\n",
      "Validation score: -1.555714\n",
      "Iteration 78, loss = 377.40873080\n",
      "Validation score: -10.438129\n",
      "Iteration 79, loss = 1064.72006462\n",
      "Validation score: -0.113522\n",
      "Iteration 80, loss = 513.30985252\n",
      "Validation score: -54.400653\n",
      "Iteration 81, loss = 1258.98096753\n",
      "Validation score: 0.005222\n",
      "Iteration 82, loss = 679.28381446\n",
      "Validation score: -143.269788\n",
      "Iteration 83, loss = 1051.26014210\n",
      "Validation score: -161.117088\n",
      "Iteration 84, loss = 1113.77532616\n",
      "Validation score: -0.206078\n",
      "Iteration 85, loss = 471.36031937\n",
      "Validation score: -1.591619\n",
      "Iteration 86, loss = 962.36295324\n",
      "Validation score: -10.703965\n",
      "Iteration 87, loss = 613.97551531\n",
      "Validation score: -0.447468\n",
      "Iteration 88, loss = 939.36074673\n",
      "Validation score: -11.404441\n",
      "Iteration 89, loss = 528.91505442\n",
      "Validation score: -0.620146\n",
      "Iteration 90, loss = 753.51679178\n",
      "Validation score: -4.694295\n",
      "Iteration 91, loss = 790.35737518\n",
      "Validation score: -0.437123\n",
      "Iteration 92, loss = 603.07842178\n",
      "Validation score: -0.983694\n",
      "Iteration 93, loss = 877.26312390\n",
      "Validation score: -411.822766\n",
      "Iteration 94, loss = 483.24995849\n",
      "Validation score: -4.300151\n",
      "Iteration 95, loss = 726.22205732\n",
      "Validation score: -50.802569\n",
      "Iteration 96, loss = 835.94813581\n",
      "Validation score: -0.086059\n",
      "Iteration 97, loss = 547.86229318\n",
      "Validation score: -228.257992\n",
      "Iteration 98, loss = 986.40249716\n",
      "Validation score: 0.006478\n",
      "Iteration 99, loss = 1100.77556981\n",
      "Validation score: 0.073644\n",
      "Iteration 100, loss = 396.24083928\n",
      "Validation score: -10049.232077\n",
      "Iteration 101, loss = 556.63650603\n",
      "Validation score: -77.141490\n",
      "Iteration 102, loss = 576.26518514\n",
      "Validation score: -1692.412637\n",
      "Iteration 103, loss = 693.51850123\n",
      "Validation score: -12.392549\n",
      "Iteration 104, loss = 658.44770231\n",
      "Validation score: -0.464022\n",
      "Iteration 105, loss = 622.59108919\n",
      "Validation score: -5701.820722\n",
      "Iteration 106, loss = 556.27320239\n",
      "Validation score: -10.956824\n",
      "Iteration 107, loss = 721.98367439\n",
      "Validation score: -9.485142\n",
      "Iteration 108, loss = 921.68186001\n",
      "Validation score: -0.698348\n",
      "Iteration 109, loss = 427.55653868\n",
      "Validation score: 0.124045\n",
      "Iteration 110, loss = 622.36119165\n",
      "Validation score: -0.450132\n",
      "Iteration 111, loss = 723.80547395\n",
      "Validation score: -13.552431\n",
      "Iteration 112, loss = 391.98459583\n",
      "Validation score: -308.536102\n",
      "Iteration 113, loss = 567.47150093\n",
      "Validation score: -14.340857\n",
      "Iteration 114, loss = 692.05500376\n",
      "Validation score: -0.014657\n",
      "Iteration 115, loss = 696.03695402\n",
      "Validation score: -966.402259\n",
      "Iteration 116, loss = 788.90214482\n",
      "Validation score: -0.091326\n",
      "Iteration 117, loss = 701.71509831\n",
      "Validation score: -0.180392\n",
      "Iteration 118, loss = 332.18110109\n",
      "Validation score: 0.013185\n",
      "Iteration 119, loss = 476.65065683\n",
      "Validation score: -112.909929\n",
      "Iteration 120, loss = 687.39340038\n",
      "Validation score: -4.876368\n",
      "Iteration 121, loss = 484.30868538\n",
      "Validation score: -47.601241\n",
      "Iteration 122, loss = 501.03526461\n",
      "Validation score: -462.500977\n",
      "Iteration 123, loss = 565.67985183\n",
      "Validation score: -3.303660\n",
      "Iteration 124, loss = 501.66095961\n",
      "Validation score: -893.574021\n",
      "Iteration 125, loss = 571.98926389\n",
      "Validation score: -7.621124\n",
      "Iteration 126, loss = 458.81498975\n",
      "Validation score: -7008.158732\n",
      "Iteration 127, loss = 808.37094378\n",
      "Validation score: -58051.750770\n",
      "Iteration 128, loss = 787.49502732\n",
      "Validation score: -0.057113\n",
      "Iteration 129, loss = 159.66829712\n",
      "Validation score: -81552.205527\n",
      "Iteration 130, loss = 550.78583948\n",
      "Validation score: -38.902398\n",
      "Iteration 131, loss = 484.37250285\n",
      "Validation score: -0.113155\n",
      "Iteration 132, loss = 497.99755452\n",
      "Validation score: -324.514407\n",
      "Iteration 133, loss = 547.33089365\n",
      "Validation score: -356.628012\n",
      "Iteration 134, loss = 448.35872342\n",
      "Validation score: -17.788780\n",
      "Iteration 135, loss = 534.54773663\n",
      "Validation score: -4.335069\n",
      "Iteration 136, loss = 411.26333338\n",
      "Validation score: -13.782682\n",
      "Iteration 137, loss = 644.11953430\n",
      "Validation score: -0.446480\n",
      "Iteration 138, loss = 612.61990745\n",
      "Validation score: -1.310376\n",
      "Iteration 139, loss = 487.01348735\n",
      "Validation score: -1.326461\n",
      "Iteration 140, loss = 388.56197554\n",
      "Validation score: -5.338108\n",
      "Iteration 141, loss = 482.65593573\n",
      "Validation score: -48.894281\n",
      "Iteration 142, loss = 430.23907454\n",
      "Validation score: -958.162615\n",
      "Iteration 143, loss = 497.22291653\n",
      "Validation score: -436.851208\n",
      "Iteration 144, loss = 427.59099247\n",
      "Validation score: -32.523043\n",
      "Iteration 145, loss = 469.72822136\n",
      "Validation score: -1566.700168\n",
      "Iteration 146, loss = 625.08334668\n",
      "Validation score: 0.096857\n",
      "Iteration 147, loss = 393.98582453\n",
      "Validation score: -0.088052\n",
      "Iteration 148, loss = 475.88010898\n",
      "Validation score: -3529.562375\n",
      "Iteration 149, loss = 375.09083712\n",
      "Validation score: -7.931776\n",
      "Iteration 150, loss = 544.22200818\n",
      "Validation score: -18.400983\n",
      "Iteration 151, loss = 445.44517779\n",
      "Validation score: 0.102177\n",
      "Iteration 152, loss = 413.01378560\n",
      "Validation score: -3.263546\n",
      "Iteration 153, loss = 448.73856580\n",
      "Validation score: -322.009150\n",
      "Iteration 154, loss = 806.70709816\n",
      "Validation score: -113.665607\n",
      "Iteration 155, loss = 60.11195955\n",
      "Validation score: -13.165836\n",
      "Iteration 156, loss = 413.83527276\n",
      "Validation score: -38162.940251\n",
      "Iteration 157, loss = 438.40131869\n",
      "Validation score: -139.603289\n",
      "Iteration 158, loss = 399.08783589\n",
      "Validation score: -3.291817\n",
      "Iteration 159, loss = 412.64041207\n",
      "Validation score: -151.385536\n",
      "Iteration 160, loss = 373.04050010\n",
      "Validation score: -0.374990\n",
      "Validation score did not improve more than tol=0.000100 for 50 consecutive epochs. Stopping.\n",
      "Best paramters: {'shuffle': True, 'n_iter_no_change': 50, 'max_iter': 200, 'learning_rate': 'constant', 'hidden_layer_sizes': (100,), 'early_stopping': True, 'batch_size': 'auto', 'alpha': 0.0005, 'activation': 'identity'})\n"
     ]
    }
   ],
   "source": [
    "print('Iterando...')\n",
    "\n",
    "MLP_rscv = RandomizedSearchCV(estimator=reg_MLP, param_distributions=random_grid_rs_MLP, scoring=None, n_iter=20, cv=5, verbose=1, random_state=42, n_jobs=-1, error_score='raise')\n",
    "MLP_rscv.fit(X_train, np.ravel(y_train))\n",
    "\n",
    "best_params_MLP_rscv = MLP_rscv.best_params_\n",
    "print(f\"Best paramters: {best_params_MLP_rscv})\")"
   ]
  },
  {
   "cell_type": "markdown",
   "id": "e2c8d79a-689f-42e9-ac7c-93e0905c0d41",
   "metadata": {},
   "source": [
    "<b>Grid Search</b>"
   ]
  },
  {
   "cell_type": "code",
   "execution_count": 32,
   "id": "43482d8e-a718-45b7-8590-d19c7760b25f",
   "metadata": {},
   "outputs": [],
   "source": [
    "# a partir de los mejores parámetros de Randomized Search, escogemos parámetros para Grid Search y realizamos nuevas pruebas\n",
    "\n",
    "hidden_layer_sizes_gs_MLP=[(100, 100, 100, 100, 100), (100, 100, 100, 100, 100, 100)]   # (100,) / tamaño capas ocultas\n",
    "activation_gs_MLP=['relu', 'logistic']   #'relu': función de activación; ‘identity’, ‘logistic’, ‘tanh’\n",
    "alpha_gs_MLP=[0.001]   # 0.0001 / coef. de regularización L2, controla el sobreajuste (mayor > aprendizaje conservador, menor prob. sobreajuste)\n",
    "batch_size_gs_MLP=['auto']   # 'auto': tamaño de los lotes en que se divide el dataset; menor, más preciso pero más lento; 'auto': batch_size=min(200, n_samples)\n",
    "learning_rate_gs_MLP=['constant', 'invscaling']   # 'constant' / ritmo de aprendizaje; invscaling: disminuye la tasa de aprendizaje a medida que avanzan las iteraciones; adaptive: tasa constante, se reduce si el error en la validación deja de mejorar\n",
    "max_iter_gs_MLP=range(190, 201, 100)   # 200: número de épocas (cuántas veces se utiliza cada punto de datos), no número de pasos del gradiente\n",
    "shuffle_gs_MLP=[True]   # True: baraja aleatoriamente los datos\n",
    "early_stopping_gs_MLP=[True]\n",
    "n_iter_no_change_gs_MLP=range(40, 51, 10)   # 10 / uso con early_stopping\n",
    "\n",
    "random_grid_gs_MLP = {'hidden_layer_sizes': hidden_layer_sizes_gs_MLP, 'activation': activation_gs_MLP, 'alpha': alpha_gs_MLP, 'batch_size':batch_size_gs_MLP,\\\n",
    "                      'learning_rate': learning_rate_gs_MLP, 'max_iter': max_iter_gs_MLP, 'shuffle': shuffle_gs_MLP, 'early_stopping': early_stopping_gs_MLP,\\\n",
    "                     'n_iter_no_change': n_iter_no_change_gs_MLP}"
   ]
  },
  {
   "cell_type": "code",
   "execution_count": 33,
   "id": "6aaeacda-8f43-40ea-95f3-675df4645c46",
   "metadata": {
    "scrolled": true
   },
   "outputs": [
    {
     "name": "stdout",
     "output_type": "stream",
     "text": [
      "Iterando...\n",
      "Fitting 5 folds for each of 16 candidates, totalling 80 fits\n",
      "Iteration 1, loss = 6425.50181604\n",
      "Validation score: -0.747460\n",
      "Iteration 2, loss = 9.62785473\n",
      "Validation score: -1169.021075\n",
      "Iteration 3, loss = 123.19972027\n",
      "Validation score: -2.382920\n",
      "Iteration 4, loss = 76.60584079\n",
      "Validation score: -1.146912\n",
      "Iteration 5, loss = 50.49312368\n",
      "Validation score: -41.196346\n",
      "Iteration 6, loss = 28.06565148\n",
      "Validation score: -0.229111\n",
      "Iteration 7, loss = 13.21041586\n",
      "Validation score: -34.805960\n",
      "Iteration 8, loss = 8.54506196\n",
      "Validation score: -1.887748\n",
      "Iteration 9, loss = 612.84759463\n",
      "Validation score: -0.084760\n",
      "Iteration 10, loss = 0.58600502\n",
      "Validation score: -0.038779\n",
      "Iteration 11, loss = 0.57372494\n",
      "Validation score: -0.151502\n",
      "Iteration 12, loss = 0.64111014\n",
      "Validation score: -0.264234\n",
      "Iteration 13, loss = 1.04229325\n",
      "Validation score: -2.185221\n",
      "Iteration 14, loss = 1.21508601\n",
      "Validation score: -0.537333\n",
      "Iteration 15, loss = 1.08155125\n",
      "Validation score: -1.307377\n",
      "Iteration 16, loss = 1.02292919\n",
      "Validation score: -0.114204\n",
      "Iteration 17, loss = 0.64878806\n",
      "Validation score: -0.015934\n",
      "Iteration 18, loss = 0.62395208\n",
      "Validation score: -0.020937\n",
      "Iteration 19, loss = 0.59163419\n",
      "Validation score: -0.047130\n",
      "Iteration 20, loss = 0.55820067\n",
      "Validation score: 0.002277\n",
      "Iteration 21, loss = 4.56458843\n",
      "Validation score: -0.018107\n",
      "Iteration 22, loss = 0.54964442\n",
      "Validation score: -0.050257\n",
      "Iteration 23, loss = 0.55936580\n",
      "Validation score: -0.019970\n",
      "Iteration 24, loss = 0.56413371\n",
      "Validation score: -0.294582\n",
      "Iteration 25, loss = 0.55066712\n",
      "Validation score: -0.034305\n",
      "Iteration 26, loss = 0.54210604\n",
      "Validation score: -0.010541\n",
      "Iteration 27, loss = 0.53383941\n",
      "Validation score: 0.003895\n",
      "Iteration 28, loss = 0.53247329\n",
      "Validation score: 0.002263\n",
      "Iteration 29, loss = 0.53321790\n",
      "Validation score: 0.009032\n",
      "Iteration 30, loss = 0.52953660\n",
      "Validation score: 0.003369\n",
      "Iteration 31, loss = 0.52983136\n",
      "Validation score: 0.007980\n",
      "Iteration 32, loss = 0.52966229\n",
      "Validation score: 0.005976\n",
      "Iteration 33, loss = 0.52997319\n",
      "Validation score: 0.002645\n",
      "Iteration 34, loss = 0.55286759\n",
      "Validation score: 0.003477\n",
      "Iteration 35, loss = 0.52968969\n",
      "Validation score: 0.006033\n",
      "Iteration 36, loss = 0.52959352\n",
      "Validation score: 0.007893\n",
      "Iteration 37, loss = 0.52984124\n",
      "Validation score: 0.005699\n",
      "Iteration 38, loss = 0.52957875\n",
      "Validation score: 0.005250\n",
      "Iteration 39, loss = 0.53222161\n",
      "Validation score: 0.003201\n",
      "Iteration 40, loss = 0.52955089\n",
      "Validation score: 0.005018\n",
      "Iteration 41, loss = 0.53400387\n",
      "Validation score: 0.006772\n",
      "Iteration 42, loss = 0.54231550\n",
      "Validation score: 0.007662\n",
      "Iteration 43, loss = 0.52931880\n",
      "Validation score: 0.007999\n",
      "Iteration 44, loss = 0.52929787\n",
      "Validation score: 0.005828\n",
      "Iteration 45, loss = 0.52942696\n",
      "Validation score: 0.003326\n",
      "Iteration 46, loss = 0.52964415\n",
      "Validation score: 0.004071\n",
      "Iteration 47, loss = 0.53777051\n",
      "Validation score: 0.003838\n",
      "Iteration 48, loss = 0.53166008\n",
      "Validation score: 0.006261\n",
      "Iteration 49, loss = 0.52946312\n",
      "Validation score: 0.008041\n",
      "Iteration 50, loss = 0.52925165\n",
      "Validation score: 0.007789\n",
      "Iteration 51, loss = 0.52924465\n",
      "Validation score: 0.008050\n",
      "Iteration 52, loss = 0.52922231\n",
      "Validation score: 0.003107\n",
      "Iteration 53, loss = 0.52964958\n",
      "Validation score: 0.007155\n",
      "Iteration 54, loss = 0.52924743\n",
      "Validation score: 0.005178\n",
      "Iteration 55, loss = 0.52936220\n",
      "Validation score: 0.002212\n",
      "Iteration 56, loss = 0.52938948\n",
      "Validation score: 0.004436\n",
      "Iteration 57, loss = 0.52931168\n",
      "Validation score: 0.007770\n",
      "Iteration 58, loss = 0.52919748\n",
      "Validation score: 0.007688\n",
      "Iteration 59, loss = 0.52931503\n",
      "Validation score: 0.007745\n",
      "Iteration 60, loss = 0.52935532\n",
      "Validation score: 0.003620\n",
      "Iteration 61, loss = 0.52931647\n",
      "Validation score: 0.005948\n",
      "Iteration 62, loss = 0.52922366\n",
      "Validation score: 0.006399\n",
      "Iteration 63, loss = 0.52929258\n",
      "Validation score: 0.003451\n",
      "Iteration 64, loss = 0.52933756\n",
      "Validation score: 0.006183\n",
      "Iteration 65, loss = 0.53000642\n",
      "Validation score: 0.006693\n",
      "Iteration 66, loss = 0.52891347\n",
      "Validation score: 0.008692\n",
      "Iteration 67, loss = 0.52849261\n",
      "Validation score: 0.009178\n",
      "Iteration 68, loss = 0.52861025\n",
      "Validation score: 0.004820\n",
      "Iteration 69, loss = 0.52931464\n",
      "Validation score: 0.008108\n",
      "Iteration 70, loss = 0.52920728\n",
      "Validation score: 0.005865\n",
      "Iteration 71, loss = 0.53082037\n",
      "Validation score: 0.006372\n",
      "Iteration 72, loss = 0.52932716\n",
      "Validation score: 0.006221\n",
      "Iteration 73, loss = 0.52923914\n",
      "Validation score: 0.008078\n",
      "Iteration 74, loss = 0.52921749\n",
      "Validation score: 0.005251\n",
      "Iteration 75, loss = 0.52926276\n",
      "Validation score: 0.007845\n",
      "Iteration 76, loss = 0.52917878\n",
      "Validation score: 0.006767\n",
      "Iteration 77, loss = 0.52924621\n",
      "Validation score: 0.008138\n",
      "Iteration 78, loss = 0.52921252\n",
      "Validation score: 0.003680\n",
      "Iteration 79, loss = 0.52933673\n",
      "Validation score: 0.007808\n",
      "Iteration 80, loss = 0.52920067\n",
      "Validation score: 0.006679\n",
      "Iteration 81, loss = 0.52923254\n",
      "Validation score: 0.004570\n",
      "Iteration 82, loss = 0.52944866\n",
      "Validation score: 0.005168\n",
      "Iteration 83, loss = 0.52928244\n",
      "Validation score: 0.005782\n",
      "Iteration 84, loss = 0.52920217\n",
      "Validation score: 0.008048\n",
      "Iteration 85, loss = 0.52919087\n",
      "Validation score: 0.006620\n",
      "Iteration 86, loss = 0.52921160\n",
      "Validation score: 0.006652\n",
      "Iteration 87, loss = 0.52923131\n",
      "Validation score: 0.004117\n",
      "Iteration 88, loss = 0.52931122\n",
      "Validation score: 0.007631\n",
      "Iteration 89, loss = 0.52918451\n",
      "Validation score: 0.007938\n",
      "Iteration 90, loss = 0.52921126\n",
      "Validation score: 0.004041\n",
      "Iteration 91, loss = 0.52929643\n",
      "Validation score: 0.007546\n",
      "Iteration 92, loss = 0.52919172\n",
      "Validation score: 0.008109\n",
      "Iteration 93, loss = 0.52918600\n",
      "Validation score: 0.003789\n",
      "Iteration 94, loss = 0.52931116\n",
      "Validation score: 0.007903\n",
      "Iteration 95, loss = 0.52918269\n",
      "Validation score: 0.007360\n",
      "Iteration 96, loss = 0.52926277\n",
      "Validation score: 0.007133\n",
      "Iteration 97, loss = 0.52919888\n",
      "Validation score: 0.007138\n",
      "Iteration 98, loss = 0.52931723\n",
      "Validation score: 0.005170\n",
      "Iteration 99, loss = 0.52925329\n",
      "Validation score: 0.007280\n",
      "Iteration 100, loss = 0.52919215\n",
      "Validation score: 0.008110\n",
      "Iteration 101, loss = 0.52920119\n",
      "Validation score: 0.004678\n",
      "Iteration 102, loss = 0.52927208\n",
      "Validation score: 0.007916\n",
      "Iteration 103, loss = 0.52918204\n",
      "Validation score: 0.006984\n",
      "Iteration 104, loss = 0.52921388\n",
      "Validation score: 0.008058\n",
      "Iteration 105, loss = 0.52920204\n",
      "Validation score: 0.004214\n",
      "Iteration 106, loss = 0.52928819\n",
      "Validation score: 0.007967\n",
      "Iteration 107, loss = 0.52915831\n",
      "Validation score: 0.006659\n",
      "Iteration 108, loss = 0.52921043\n",
      "Validation score: 0.005844\n",
      "Iteration 109, loss = 0.52937311\n",
      "Validation score: 0.005414\n",
      "Iteration 110, loss = 0.52923898\n",
      "Validation score: 0.007380\n",
      "Iteration 111, loss = 0.52918343\n",
      "Validation score: 0.008006\n",
      "Iteration 112, loss = 0.52917222\n",
      "Validation score: 0.006374\n",
      "Iteration 113, loss = 0.52921745\n",
      "Validation score: 0.007022\n",
      "Iteration 114, loss = 0.52931787\n",
      "Validation score: 0.005356\n",
      "Iteration 115, loss = 0.54488594\n",
      "Validation score: 0.005835\n",
      "Iteration 116, loss = 0.52922615\n",
      "Validation score: 0.007576\n",
      "Iteration 117, loss = 0.52920010\n",
      "Validation score: 0.007231\n",
      "Iteration 118, loss = 0.52919785\n",
      "Validation score: 0.008013\n",
      "Validation score did not improve more than tol=0.000100 for 50 consecutive epochs. Stopping.\n",
      "Best parameters: {'activation': 'relu', 'alpha': 0.001, 'batch_size': 'auto', 'early_stopping': True, 'hidden_layer_sizes': (100, 100, 100, 100, 100), 'learning_rate': 'constant', 'max_iter': 190, 'n_iter_no_change': 50, 'shuffle': True}\n"
     ]
    }
   ],
   "source": [
    "print('Iterando...')\n",
    "\n",
    "MLP_gscv = GridSearchCV(estimator=reg_MLP, param_grid=random_grid_gs_MLP, scoring=None, cv=5, verbose=1, n_jobs=-1, error_score='raise')\n",
    "MLP_gscv.fit(X_train, np.ravel(y_train))\n",
    "\n",
    "best_params_MLP_gscv = MLP_gscv.best_params_\n",
    "print(f\"Best parameters: {best_params_MLP_gscv}\")"
   ]
  },
  {
   "cell_type": "markdown",
   "id": "d0989691-eb49-4f52-8db1-1dcf89a9b5f5",
   "metadata": {},
   "source": [
    "### MLP"
   ]
  },
  {
   "cell_type": "code",
   "execution_count": 34,
   "id": "157f2355-899b-4266-aa1b-6b19c329a41b",
   "metadata": {},
   "outputs": [
    {
     "name": "stdout",
     "output_type": "stream",
     "text": [
      "Iterando...\n",
      "Acabado\n"
     ]
    }
   ],
   "source": [
    "print('Iterando...')\n",
    "\n",
    "reg_MLP = MLPRegressor(**best_params_MLP_gscv)\n",
    "reg_MLP.fit(X_train, np.ravel(y_train))\n",
    "\n",
    "print('Acabado')"
   ]
  },
  {
   "cell_type": "markdown",
   "id": "6c537f95-d39c-42fd-be09-d7f2a143e013",
   "metadata": {},
   "source": [
    "<b>Evaluación</b>"
   ]
  },
  {
   "cell_type": "code",
   "execution_count": 35,
   "id": "b1f4745e-9df1-44ef-a629-15165355ec26",
   "metadata": {},
   "outputs": [
    {
     "name": "stdout",
     "output_type": "stream",
     "text": [
      "Score Train: 0.09%\n",
      "Score Test: -0.00%\n"
     ]
    }
   ],
   "source": [
    "score_train = reg_MLP.score(X_train, y_train)\n",
    "print('Score Train: {:.2%}'.format(score_train))\n",
    "score_test = reg_MLP.score(X_test, y_test)\n",
    "print('Score Test: {:.2%}'.format(score_test))"
   ]
  },
  {
   "cell_type": "code",
   "execution_count": 36,
   "id": "dd1bd17a-9830-42f4-b2d4-c7b0888d8bf8",
   "metadata": {},
   "outputs": [
    {
     "name": "stdout",
     "output_type": "stream",
     "text": [
      "- Train:\n",
      "Mean Absolute Error: 50.78%\n",
      "Mean Squared Error: 104.91%\n",
      "Root Mean Squared Error: 102.43%\n"
     ]
    }
   ],
   "source": [
    "print('- Train:')\n",
    "\n",
    "y_train_pred = reg_MLP.predict(X_train)\n",
    "\n",
    "mae = mean_absolute_error(y_train, y_train_pred)\n",
    "print('Mean Absolute Error: {:.2%}'.format(mae))\n",
    "\n",
    "mse = mean_squared_error(y_train, y_train_pred)\n",
    "print('Mean Squared Error: {:.2%}'.format(mse))\n",
    "\n",
    "rmse = root_mean_squared_error(y_train, y_train_pred)\n",
    "print('Root Mean Squared Error: {:.2%}'.format(rmse))"
   ]
  },
  {
   "cell_type": "code",
   "execution_count": 37,
   "id": "f7f2fc4e-9507-4e3d-9dca-5dcafb43511f",
   "metadata": {},
   "outputs": [
    {
     "name": "stdout",
     "output_type": "stream",
     "text": [
      "- Test:\n",
      "Mean Absolute Error: 50.55%\n",
      "Mean Squared Error: 88.31%\n",
      "Root Mean Squared Error: 93.97%\n"
     ]
    }
   ],
   "source": [
    "print('- Test:')\n",
    "\n",
    "y_test_pred = reg_MLP.predict(X_test)\n",
    "\n",
    "mae = mean_absolute_error(y_test, y_test_pred)\n",
    "print('Mean Absolute Error: {:.2%}'.format(mae))\n",
    "\n",
    "mse = mean_squared_error(y_test, y_test_pred)\n",
    "print('Mean Squared Error: {:.2%}'.format(mse))\n",
    "\n",
    "rmse = root_mean_squared_error(y_test, y_test_pred)\n",
    "print('Root Mean Squared Error: {:.2%}'.format(rmse))"
   ]
  },
  {
   "cell_type": "markdown",
   "id": "0b20d15e-8ee5-41cc-8667-2dee0af24b5d",
   "metadata": {},
   "source": [
    "### Resultados de MLP"
   ]
  },
  {
   "cell_type": "markdown",
   "id": "314b4449-3237-4ef6-9bb5-8a106d1a1007",
   "metadata": {},
   "source": [
    "MLP ofrece muy malos resultados, score muy bajo y medidas de error muy altas."
   ]
  },
  {
   "cell_type": "markdown",
   "id": "4e4d95c1-de33-4846-8086-16cbd7a9313c",
   "metadata": {},
   "source": [
    "# Random Forest"
   ]
  },
  {
   "cell_type": "code",
   "execution_count": 38,
   "id": "1656c802-c71c-4786-b0e8-4f874699b725",
   "metadata": {},
   "outputs": [],
   "source": [
    "reg_rf = RandomForestRegressor(random_state=42, n_jobs=-1, verbose=1)"
   ]
  },
  {
   "cell_type": "markdown",
   "id": "7f3b49d1-1f4e-4299-8183-85a59b80ace7",
   "metadata": {},
   "source": [
    "### Randomized Search"
   ]
  },
  {
   "cell_type": "code",
   "execution_count": 39,
   "id": "87a57af9-730b-4828-996c-e2b660133427",
   "metadata": {},
   "outputs": [],
   "source": [
    "n_estimators_rs_rf = [50, 100]   # 100: núm. árboles en el bosque\n",
    "criterion_rs_rf = ['squared_error']   # squared_error; medición de la calidad de una división; squared_error/absolute_error (más lento)/friedman_mse/poisson\n",
    "max_depth_rs_rf = [None]   # None: profundidad máxima; 'None': no limitado; int\n",
    "min_samples_split_rs_rf = [2, 3]   # 2; núm. mínimo de muestras para dividir un nodo; int [2, inf), float (0.0, 1.0]\n",
    "min_samples_leaf_rs_rf = [5, 10]   # 1; núm. mínimo de muestras en una hoja; int [1, inf); float (0.0, 1.0)\n",
    "max_features_rs_rf = [0.2, 0.5]   # 1.0; núm. máximo de características a considerar al buscar la mejor difusión; valor numérico (int, float), 'sqrt', 'log2', None (max_features=n_features)\n",
    "max_leaf_nodes_rs_rf = [None]   # None; núm. máximo de nodos hoja; 'None': sin limitación; rango [2, inf)\n",
    "min_impurity_decrease_rs_rf = [0.0, 0.05]   # 0.0; nodo se divide si la reducción en la impureza es mayor que este valor; el algoritmo no dividirá nodos que no mejoren significativamente la pureza de las hojas\n",
    "bootstrap_rs_rf = [True, False]   # True; False, se usa todo el conjunto de datos para construir cada árbol; True: se usan muestras de bootstrap\n",
    "oob_score_rs_rf = [False]   # False; True, se usan muestras 'out of the bag' para estimar la precisión de generalización; error si está a True y bootstrap=False; OOB: estimación del rendimiento del modelo sin usar un conjunto de validación externo. Las muestras que no se usan para entrenar un árbol (muestras out of the bag) se usan para validar ese árbol.\n",
    "ccp_alpha_rs_rf = [0.0, 0.05]   # 0.0; poda; cuanto mayor sea, más se poda\n",
    "max_samples_rs_rf = [None]   # None; bootstrap, núm. muestras para entrenar cada árbol; error si tiene valor y bootstrap=False; None: todas; int: núm. muestras por árbol; float (0.0, 1.0]: porcentaje muestras por árbol\n",
    "\n",
    "random_grid_rs_rf = {'n_estimators': n_estimators_rs_rf, 'criterion': criterion_rs_rf, 'max_depth': max_depth_rs_rf, 'min_samples_split': min_samples_split_rs_rf, \\\n",
    "                     'min_samples_leaf': min_samples_leaf_rs_rf, 'max_features': max_features_rs_rf, 'max_leaf_nodes': max_leaf_nodes_rs_rf, \\\n",
    "                     'min_impurity_decrease': min_impurity_decrease_rs_rf, 'bootstrap': bootstrap_rs_rf, 'oob_score': oob_score_rs_rf, 'ccp_alpha': ccp_alpha_rs_rf,\\\n",
    "                     'max_samples': max_samples_rs_rf}"
   ]
  },
  {
   "cell_type": "code",
   "execution_count": 40,
   "id": "015b8256-19a2-459e-973f-89e7569e14a4",
   "metadata": {
    "scrolled": true
   },
   "outputs": [
    {
     "name": "stdout",
     "output_type": "stream",
     "text": [
      "Iterando...\n",
      "Fitting 5 folds for each of 25 candidates, totalling 125 fits\n"
     ]
    },
    {
     "name": "stderr",
     "output_type": "stream",
     "text": [
      "[Parallel(n_jobs=-1)]: Using backend ThreadingBackend with 8 concurrent workers.\n",
      "[Parallel(n_jobs=-1)]: Done  34 tasks      | elapsed:   15.6s\n"
     ]
    },
    {
     "name": "stdout",
     "output_type": "stream",
     "text": [
      "Best paramters: {'oob_score': False, 'n_estimators': 100, 'min_samples_split': 2, 'min_samples_leaf': 5, 'min_impurity_decrease': 0.0, 'max_samples': None, 'max_leaf_nodes': None, 'max_features': 0.5, 'max_depth': None, 'criterion': 'squared_error', 'ccp_alpha': 0.0, 'bootstrap': False})\n"
     ]
    },
    {
     "name": "stderr",
     "output_type": "stream",
     "text": [
      "[Parallel(n_jobs=-1)]: Done 100 out of 100 | elapsed:   41.4s finished\n"
     ]
    }
   ],
   "source": [
    "print('Iterando...')\n",
    "\n",
    "rf_rscv = RandomizedSearchCV(estimator=reg_rf, param_distributions=random_grid_rs_rf, scoring=None, n_iter=25, cv=5, verbose=1, random_state=42, n_jobs=-1, error_score='raise')\n",
    "rf_rscv.fit(X_train, np.ravel(y_train))\n",
    "\n",
    "best_params_rf_rscv = rf_rscv.best_params_\n",
    "print(f\"Best paramters: {best_params_rf_rscv})\")"
   ]
  },
  {
   "cell_type": "markdown",
   "id": "f3651ed3-cd79-4d2a-ace2-9a3236b9bf75",
   "metadata": {},
   "source": [
    "### Grid Search"
   ]
  },
  {
   "cell_type": "code",
   "execution_count": 41,
   "id": "98a6afb5-7e13-4fc4-b60f-2616e12ff447",
   "metadata": {},
   "outputs": [],
   "source": [
    "# a partir de los mejores parámetros de Randomized Search, escogemos parámetros para Grid Search\n",
    "\n",
    "n_estimators_gs_rf = [100]   # 100: núm. árboles en el bosque\n",
    "criterion_gs_rf = ['squared_error']   # squared_error; medición de la calidad de una división; squared_error/absolute_error (más lento)/friedman_mse/poisson\n",
    "max_depth_gs_rf = [None]   # None: profundidad máxima; 'None': no limitado; int\n",
    "min_samples_split_gs_rf = [2, 3]   # 2; núm. mínimo de muestras para dividir un nodo; int [2, inf), float (0.0, 1.0]\n",
    "min_samples_leaf_gs_rf = list(range(1, 3))   # 1; núm. mínimo de muestras en una hoja; int [1, inf); float (0.0, 1.0)\n",
    "max_features_gs_rf = list(np.arange(0.4, 0.7, 0.1))   # 1.0; núm. máximo de características a considerar al buscar la mejor difusión; valor numérico (int, float), 'sqrt', 'log2', None (max_features=n_features)\n",
    "max_leaf_nodes_gs_rf = [None]   # None; núm. máximo de nodos hoja; 'None': sin limitación; rango [2, inf)\n",
    "min_impurity_decrease_gs_rf = [0.0]   # 0.0; nodo se divide si la reducción en la impureza es mayor que este valor; el algoritmo no dividirá nodos que no mejoren significativamente la pureza de las hojas\n",
    "bootstrap_gs_rf = [False]   # True; False, se usa todo el conjunto de datos para construir cada árbol; True: se usan muestras de bootstrap\n",
    "oob_score_gs_rf = [False]   # False; True, se usan muestras 'out of the bag' para estimar la precisión de generalización; error si está a True y bootstrap=False; OOB: estimación del rendimiento del modelo sin usar un conjunto de validación externo. Las muestras que no se usan para entrenar un árbol (muestras out of the bag) se usan para validar ese árbol.\n",
    "ccp_alpha_gs_rf = [0.0]   # 0.0; poda; cuanto mayor sea, más se poda\n",
    "max_samples_gs_rf = [None]   # None; bootstrap, núm. muestras para entrenar cada árbol; error si tiene valor y bootstrap=False; None: todas; int: núm. muestras por árbol; float (0.0, 1.0]: porcentaje muestras por árbol\n",
    "\n",
    "random_grid_gs_rf = {'n_estimators': n_estimators_gs_rf, 'criterion': criterion_gs_rf, 'max_depth': max_depth_gs_rf, 'min_samples_split':min_samples_split_gs_rf,\\\n",
    "                     'min_samples_leaf': min_samples_leaf_gs_rf, 'max_features': max_features_gs_rf, 'max_leaf_nodes': max_leaf_nodes_gs_rf, \\\n",
    "                     'min_impurity_decrease': min_impurity_decrease_gs_rf, 'bootstrap': bootstrap_gs_rf, 'oob_score': oob_score_gs_rf, \\\n",
    "                     'ccp_alpha': ccp_alpha_gs_rf, 'max_samples': max_samples_gs_rf}"
   ]
  },
  {
   "cell_type": "code",
   "execution_count": 42,
   "id": "893826f2-7227-4dc8-9474-4b545a80cf84",
   "metadata": {},
   "outputs": [
    {
     "name": "stdout",
     "output_type": "stream",
     "text": [
      "Iterando...\n",
      "Fitting 5 folds for each of 12 candidates, totalling 60 fits\n"
     ]
    },
    {
     "name": "stderr",
     "output_type": "stream",
     "text": [
      "[Parallel(n_jobs=-1)]: Using backend ThreadingBackend with 8 concurrent workers.\n",
      "[Parallel(n_jobs=-1)]: Done  34 tasks      | elapsed:   18.6s\n"
     ]
    },
    {
     "name": "stdout",
     "output_type": "stream",
     "text": [
      "Best parameters: {'bootstrap': False, 'ccp_alpha': 0.0, 'criterion': 'squared_error', 'max_depth': None, 'max_features': 0.4, 'max_leaf_nodes': None, 'max_samples': None, 'min_impurity_decrease': 0.0, 'min_samples_leaf': 1, 'min_samples_split': 2, 'n_estimators': 100, 'oob_score': False}\n"
     ]
    },
    {
     "name": "stderr",
     "output_type": "stream",
     "text": [
      "[Parallel(n_jobs=-1)]: Done 100 out of 100 | elapsed:   52.0s finished\n"
     ]
    }
   ],
   "source": [
    "print('Iterando...')\n",
    "\n",
    "rf_gscv = GridSearchCV(estimator=reg_rf, param_grid=random_grid_gs_rf, scoring=None, cv=5, verbose=1, n_jobs=-1, error_score='raise')\n",
    "rf_gscv.fit(X_train, np.ravel(y_train))\n",
    "\n",
    "best_params_rf_gscv = rf_gscv.best_params_\n",
    "print(f\"Best parameters: {best_params_rf_gscv}\")"
   ]
  },
  {
   "cell_type": "markdown",
   "id": "644eb5de-222b-4a8d-b512-480ca37747f0",
   "metadata": {},
   "source": [
    "## Random Forest"
   ]
  },
  {
   "cell_type": "code",
   "execution_count": 43,
   "id": "a76161cf-894d-4c44-9e04-7821523d86f8",
   "metadata": {},
   "outputs": [
    {
     "name": "stderr",
     "output_type": "stream",
     "text": [
      "[Parallel(n_jobs=-1)]: Using backend ThreadingBackend with 8 concurrent workers.\n"
     ]
    },
    {
     "name": "stdout",
     "output_type": "stream",
     "text": [
      "Iterando...\n"
     ]
    },
    {
     "name": "stderr",
     "output_type": "stream",
     "text": [
      "[Parallel(n_jobs=-1)]: Done  34 tasks      | elapsed:   18.2s\n"
     ]
    },
    {
     "name": "stdout",
     "output_type": "stream",
     "text": [
      "Acabado\n"
     ]
    },
    {
     "name": "stderr",
     "output_type": "stream",
     "text": [
      "[Parallel(n_jobs=-1)]: Done 100 out of 100 | elapsed:   48.6s finished\n"
     ]
    }
   ],
   "source": [
    "print('Iterando...')\n",
    "\n",
    "reg_rf = RandomForestRegressor(**best_params_rf_gscv, n_jobs=-1, verbose=1)\n",
    "reg_rf.fit(X_train, np.ravel(y_train))\n",
    "\n",
    "print('Acabado')"
   ]
  },
  {
   "cell_type": "markdown",
   "id": "7b027acf-780d-47db-b52e-d2b2d27682c0",
   "metadata": {},
   "source": [
    "<b>Evaluación</b>"
   ]
  },
  {
   "cell_type": "code",
   "execution_count": 44,
   "id": "62586aea-594a-4502-ae19-4c3ff0cfd841",
   "metadata": {},
   "outputs": [
    {
     "name": "stderr",
     "output_type": "stream",
     "text": [
      "[Parallel(n_jobs=8)]: Using backend ThreadingBackend with 8 concurrent workers.\n",
      "[Parallel(n_jobs=8)]: Done  34 tasks      | elapsed:    1.4s\n",
      "[Parallel(n_jobs=8)]: Done 100 out of 100 | elapsed:    3.7s finished\n",
      "[Parallel(n_jobs=8)]: Using backend ThreadingBackend with 8 concurrent workers.\n"
     ]
    },
    {
     "name": "stdout",
     "output_type": "stream",
     "text": [
      "Score Train: 100.00%\n"
     ]
    },
    {
     "name": "stderr",
     "output_type": "stream",
     "text": [
      "[Parallel(n_jobs=8)]: Done  34 tasks      | elapsed:    0.5s\n"
     ]
    },
    {
     "name": "stdout",
     "output_type": "stream",
     "text": [
      "Score Test: 61.73%\n"
     ]
    },
    {
     "name": "stderr",
     "output_type": "stream",
     "text": [
      "[Parallel(n_jobs=8)]: Done 100 out of 100 | elapsed:    1.5s finished\n"
     ]
    }
   ],
   "source": [
    "score_train = reg_rf.score(X_train, y_train)\n",
    "print('Score Train: {:.2%}'.format(score_train))\n",
    "score_test = reg_rf.score(X_test, y_test)\n",
    "print('Score Test: {:.2%}'.format(score_test))"
   ]
  },
  {
   "cell_type": "code",
   "execution_count": 45,
   "id": "7ba4bac2-72f8-4843-bf6d-7b9e5feaad45",
   "metadata": {},
   "outputs": [
    {
     "name": "stderr",
     "output_type": "stream",
     "text": [
      "[Parallel(n_jobs=8)]: Using backend ThreadingBackend with 8 concurrent workers.\n"
     ]
    },
    {
     "name": "stdout",
     "output_type": "stream",
     "text": [
      "- Train:\n"
     ]
    },
    {
     "name": "stderr",
     "output_type": "stream",
     "text": [
      "[Parallel(n_jobs=8)]: Done  34 tasks      | elapsed:    1.5s\n"
     ]
    },
    {
     "name": "stdout",
     "output_type": "stream",
     "text": [
      "Mean Absolute Error: 0.00%\n",
      "Mean Squared Error: 0.00%\n",
      "Root Mean Squared Error: 0.00%\n"
     ]
    },
    {
     "name": "stderr",
     "output_type": "stream",
     "text": [
      "[Parallel(n_jobs=8)]: Done 100 out of 100 | elapsed:    3.9s finished\n"
     ]
    }
   ],
   "source": [
    "print('- Train:')\n",
    "\n",
    "y_train_pred = reg_rf.predict(X_train)\n",
    "\n",
    "mae = mean_absolute_error(y_train, y_train_pred)\n",
    "print('Mean Absolute Error: {:.2%}'.format(mae))\n",
    "\n",
    "mse = mean_squared_error(y_train, y_train_pred)\n",
    "print('Mean Squared Error: {:.2%}'.format(mse))\n",
    "\n",
    "rmse = root_mean_squared_error(y_train, y_train_pred)\n",
    "print('Root Mean Squared Error: {:.2%}'.format(rmse))"
   ]
  },
  {
   "cell_type": "code",
   "execution_count": 46,
   "id": "136cf370-dfa6-4416-a479-36aba1c7d979",
   "metadata": {},
   "outputs": [
    {
     "name": "stderr",
     "output_type": "stream",
     "text": [
      "[Parallel(n_jobs=8)]: Using backend ThreadingBackend with 8 concurrent workers.\n"
     ]
    },
    {
     "name": "stdout",
     "output_type": "stream",
     "text": [
      "- Test:\n"
     ]
    },
    {
     "name": "stderr",
     "output_type": "stream",
     "text": [
      "[Parallel(n_jobs=8)]: Done  34 tasks      | elapsed:    0.5s\n"
     ]
    },
    {
     "name": "stdout",
     "output_type": "stream",
     "text": [
      "Mean Absolute Error: 23.05%\n",
      "Mean Squared Error: 33.80%\n",
      "Root Mean Squared Error: 58.14%\n"
     ]
    },
    {
     "name": "stderr",
     "output_type": "stream",
     "text": [
      "[Parallel(n_jobs=8)]: Done 100 out of 100 | elapsed:    1.5s finished\n"
     ]
    }
   ],
   "source": [
    "print('- Test:')\n",
    "\n",
    "y_test_pred = reg_rf.predict(X_test)\n",
    "\n",
    "mae = mean_absolute_error(y_test, y_test_pred)\n",
    "print('Mean Absolute Error: {:.2%}'.format(mae))\n",
    "\n",
    "mse = mean_squared_error(y_test, y_test_pred)\n",
    "print('Mean Squared Error: {:.2%}'.format(mse))\n",
    "\n",
    "rmse = root_mean_squared_error(y_test, y_test_pred)\n",
    "print('Root Mean Squared Error: {:.2%}'.format(rmse))"
   ]
  },
  {
   "cell_type": "markdown",
   "id": "79521552-81b9-4161-81e6-8d90eedb08d1",
   "metadata": {},
   "source": [
    "<b>Resultado de Random Forest</b>\n",
    "\n",
    "Obtenemos un score para el conjunto de entrenamiento del 100%, sin embargo para el conjunto de pruebas es sólo del 61%. Tenemos un probable sobreajuste."
   ]
  },
  {
   "cell_type": "markdown",
   "id": "35c89ecd-a030-4437-b2bf-d8a3938ca41d",
   "metadata": {},
   "source": [
    "<b>Sobreajuste</b>"
   ]
  },
  {
   "cell_type": "markdown",
   "id": "b67b00a4-d95e-4648-bac9-2e7dfcc8c21e",
   "metadata": {},
   "source": [
    "Algunas de las formas de reducir el sobreajuste serían:\n",
    "\n",
    "- aumentar el porcentaje del conjunto pruebas\n",
    "- reducir max_depth\n",
    "- reducir min_samples_split\n",
    "- aumentar min_samples_leaf\n",
    "- reducir n_estimators\n",
    "- bootstrap = True\n",
    "\n",
    "Vamos a partir del mejor resultado de las pruebas anteriores y a aplicar estas modificaciones."
   ]
  },
  {
   "cell_type": "markdown",
   "id": "7c2050ca-8c02-4c49-8421-524c367cc91c",
   "metadata": {},
   "source": [
    "Porcentaje del conjunto de pruebas"
   ]
  },
  {
   "cell_type": "code",
   "execution_count": 47,
   "id": "702427d9-287b-4987-acb6-001eec46b572",
   "metadata": {},
   "outputs": [],
   "source": [
    "X_train_2, X_test_2, y_train_2, y_test_2 = train_test_split(X, y, test_size=0.3, random_state=42)"
   ]
  },
  {
   "cell_type": "markdown",
   "id": "54ad54e1-f834-45ca-933a-2b61c00b2593",
   "metadata": {},
   "source": [
    "Grid Search"
   ]
  },
  {
   "cell_type": "code",
   "execution_count": 48,
   "id": "c59d4137-a19b-49ee-9540-7fe4d7b3ac23",
   "metadata": {},
   "outputs": [],
   "source": [
    "max_depth_gs_rf_2 = [25, 30]   # None: profundidad máxima; 'None': no limitado; int -> reducir\n",
    "min_samples_leaf_gs_rf_2 = [3, 4]   # 1; núm. mínimo de muestras en una hoja; int [1, inf); float (0.0, 1.0) -> aumentar -> no funciona aumentar, no sirve float\n",
    "n_estimators_gs_rf_2 = [35, 40]   # 100: núm. árboles en el bosque -> reducir -> empeora un poco\n",
    "min_samples_split_gs_rf_2 = [2]   # 2; núm. mínimo de muestras para dividir un nodo; int [2, inf), float (0.0, 1.0] -> reducir -> un desastre\n",
    "max_features_gs_rf_2 = list(np.arange(0.4, 0.6, 0.1))   # 1.0; núm. máximo de características a considerar al buscar la mejor difusión; valor numérico (int, float), 'sqrt', 'log2', None (max_features=n_features)\n",
    "criterion_gs_rf_2 = ['squared_error']   # squared_error; medición de la calidad de una división; squared_error/absolute_error (más lento)/friedman_mse/poisson\n",
    "max_leaf_nodes_gs_rf_2 = [None]   # None; núm. máximo de nodos hoja; 'None': sin limitación; rango [2, inf)\n",
    "min_impurity_decrease_gs_rf_2 = [0.0]   # 0.0; nodo se divide si la reducción en la impureza es mayor que este valor; el algoritmo no dividirá nodos que no mejoren significativamente la pureza de las hojas\n",
    "bootstrap_gs_rf_2 = [False]   # True; False, se usa todo el conjunto de datos para construir cada árbol; True: se usan muestras de bootstrap\n",
    "oob_score_gs_rf_2 = [False]   # False; True, se usan muestras 'out of the bag' para estimar la precisión de generalización; error si está a True y bootstrap=False; OOB: estimación del rendimiento del modelo sin usar un conjunto de validación externo. Las muestras que no se usan para entrenar un árbol (muestras out of the bag) se usan para validar ese árbol.\n",
    "ccp_alpha_gs_rf_2 = [0.0]   # 0.0; poda; cuanto mayor sea, más se poda\n",
    "max_samples_gs_rf_2 = [None]   # None; bootstrap, núm. muestras para entrenar cada árbol; error si tiene valor y bootstrap=False; None: todas; int: núm. muestras por árbol; float (0.0, 1.0]: porcentaje muestras por árbol\n",
    "\n",
    "random_grid_gs_rf_2 = {'n_estimators': n_estimators_gs_rf_2, 'criterion': criterion_gs_rf_2, 'max_depth': max_depth_gs_rf_2, 'min_samples_split':min_samples_split_gs_rf_2,\\\n",
    "                     'min_samples_leaf': min_samples_leaf_gs_rf_2, 'max_features': max_features_gs_rf_2, 'max_leaf_nodes': max_leaf_nodes_gs_rf_2, \\\n",
    "                     'min_impurity_decrease': min_impurity_decrease_gs_rf_2, 'bootstrap': bootstrap_gs_rf_2, 'oob_score': oob_score_gs_rf_2, \\\n",
    "                     'ccp_alpha': ccp_alpha_gs_rf_2, 'max_samples': max_samples_gs_rf_2}"
   ]
  },
  {
   "cell_type": "code",
   "execution_count": 49,
   "id": "5da4da72-f285-4039-a53a-5cad249759eb",
   "metadata": {},
   "outputs": [],
   "source": [
    "reg_rf_2 = RandomForestRegressor(random_state=42, n_jobs=-1, verbose=1)"
   ]
  },
  {
   "cell_type": "code",
   "execution_count": 50,
   "id": "5591a744-3553-4179-8b49-9c4feb1b9f4a",
   "metadata": {},
   "outputs": [
    {
     "name": "stdout",
     "output_type": "stream",
     "text": [
      "Iterando...\n",
      "Fitting 5 folds for each of 16 candidates, totalling 80 fits\n"
     ]
    },
    {
     "name": "stderr",
     "output_type": "stream",
     "text": [
      "[Parallel(n_jobs=-1)]: Using backend ThreadingBackend with 8 concurrent workers.\n"
     ]
    },
    {
     "name": "stdout",
     "output_type": "stream",
     "text": [
      "Best parameters: {'bootstrap': False, 'ccp_alpha': 0.0, 'criterion': 'squared_error', 'max_depth': 30, 'max_features': 0.5, 'max_leaf_nodes': None, 'max_samples': None, 'min_impurity_decrease': 0.0, 'min_samples_leaf': 3, 'min_samples_split': 2, 'n_estimators': 40, 'oob_score': False}\n"
     ]
    },
    {
     "name": "stderr",
     "output_type": "stream",
     "text": [
      "[Parallel(n_jobs=-1)]: Done  40 out of  40 | elapsed:   17.8s finished\n"
     ]
    }
   ],
   "source": [
    "print('Iterando...')\n",
    "\n",
    "rf_gscv_2 = GridSearchCV(estimator=reg_rf_2, param_grid=random_grid_gs_rf_2, scoring=None, cv=5, verbose=1, n_jobs=-1, error_score='raise')\n",
    "rf_gscv_2.fit(X_train_2, np.ravel(y_train_2))\n",
    "\n",
    "best_params_rf_gscv_2 = rf_gscv_2.best_params_\n",
    "print(f\"Best parameters: {best_params_rf_gscv_2}\")"
   ]
  },
  {
   "cell_type": "markdown",
   "id": "cd3a6738-65a2-45ed-b4d0-ffd33960f77e",
   "metadata": {},
   "source": [
    "Random Forest"
   ]
  },
  {
   "cell_type": "code",
   "execution_count": 51,
   "id": "a0f752c6-3148-4c64-aad7-76416728b0a2",
   "metadata": {},
   "outputs": [
    {
     "name": "stderr",
     "output_type": "stream",
     "text": [
      "[Parallel(n_jobs=-1)]: Using backend ThreadingBackend with 8 concurrent workers.\n"
     ]
    },
    {
     "name": "stdout",
     "output_type": "stream",
     "text": [
      "Iterando...\n",
      "Acabado\n"
     ]
    },
    {
     "name": "stderr",
     "output_type": "stream",
     "text": [
      "[Parallel(n_jobs=-1)]: Done  40 out of  40 | elapsed:   17.7s finished\n"
     ]
    }
   ],
   "source": [
    "print('Iterando...')\n",
    "\n",
    "reg_rf_2 = RandomForestRegressor(**best_params_rf_gscv_2, n_jobs=-1, verbose=1)\n",
    "reg_rf_2.fit(X_train_2, np.ravel(y_train_2))\n",
    "\n",
    "print('Acabado')"
   ]
  },
  {
   "cell_type": "markdown",
   "id": "d599cd7e-72ca-4ace-b517-1cd58fd58ce4",
   "metadata": {},
   "source": [
    "Evaluación"
   ]
  },
  {
   "cell_type": "code",
   "execution_count": 52,
   "id": "1546cc52-b263-4570-9761-26c88b43442d",
   "metadata": {},
   "outputs": [
    {
     "name": "stderr",
     "output_type": "stream",
     "text": [
      "[Parallel(n_jobs=8)]: Using backend ThreadingBackend with 8 concurrent workers.\n",
      "[Parallel(n_jobs=8)]: Done  40 out of  40 | elapsed:    0.9s finished\n",
      "[Parallel(n_jobs=8)]: Using backend ThreadingBackend with 8 concurrent workers.\n"
     ]
    },
    {
     "name": "stdout",
     "output_type": "stream",
     "text": [
      "Score Train: 86.04%\n",
      "Score Test: 58.63%\n"
     ]
    },
    {
     "name": "stderr",
     "output_type": "stream",
     "text": [
      "[Parallel(n_jobs=8)]: Done  40 out of  40 | elapsed:    0.4s finished\n"
     ]
    }
   ],
   "source": [
    "score_train_2 = reg_rf_2.score(X_train_2, y_train_2)\n",
    "print('Score Train: {:.2%}'.format(score_train_2))\n",
    "score_test_2 = reg_rf_2.score(X_test_2, y_test_2)\n",
    "print('Score Test: {:.2%}'.format(score_test_2))"
   ]
  },
  {
   "cell_type": "code",
   "execution_count": 53,
   "id": "ce2f2ff3-56c6-49dc-85b1-bcef389067af",
   "metadata": {},
   "outputs": [
    {
     "name": "stderr",
     "output_type": "stream",
     "text": [
      "[Parallel(n_jobs=8)]: Using backend ThreadingBackend with 8 concurrent workers.\n"
     ]
    },
    {
     "name": "stdout",
     "output_type": "stream",
     "text": [
      "- Train:\n",
      "Mean Absolute Error: 8.77%\n",
      "Mean Squared Error: 14.66%\n",
      "Root Mean Squared Error: 38.29%\n"
     ]
    },
    {
     "name": "stderr",
     "output_type": "stream",
     "text": [
      "[Parallel(n_jobs=8)]: Done  40 out of  40 | elapsed:    0.9s finished\n"
     ]
    }
   ],
   "source": [
    "print('- Train:')\n",
    "\n",
    "y_train_pred_2 = reg_rf_2.predict(X_train_2)\n",
    "\n",
    "mae_2 = mean_absolute_error(y_train_2, y_train_pred_2)\n",
    "print('Mean Absolute Error: {:.2%}'.format(mae_2))\n",
    "\n",
    "mse_2 = mean_squared_error(y_train_2, y_train_pred_2)\n",
    "print('Mean Squared Error: {:.2%}'.format(mse_2))\n",
    "\n",
    "rmse_2 = root_mean_squared_error(y_train_2, y_train_pred_2)\n",
    "print('Root Mean Squared Error: {:.2%}'.format(rmse_2))"
   ]
  },
  {
   "cell_type": "code",
   "execution_count": 54,
   "id": "c896b827-57f2-47e7-afe9-73ec95e5cd0e",
   "metadata": {},
   "outputs": [
    {
     "name": "stderr",
     "output_type": "stream",
     "text": [
      "[Parallel(n_jobs=8)]: Using backend ThreadingBackend with 8 concurrent workers.\n"
     ]
    },
    {
     "name": "stdout",
     "output_type": "stream",
     "text": [
      "- Test:\n",
      "Mean Absolute Error: 24.08%\n",
      "Mean Squared Error: 36.53%\n",
      "Root Mean Squared Error: 60.44%\n"
     ]
    },
    {
     "name": "stderr",
     "output_type": "stream",
     "text": [
      "[Parallel(n_jobs=8)]: Done  40 out of  40 | elapsed:    0.3s finished\n"
     ]
    }
   ],
   "source": [
    "print('- Test:')\n",
    "\n",
    "y_test_pred_2 = reg_rf_2.predict(X_test_2)\n",
    "\n",
    "mae_2 = mean_absolute_error(y_test_2, y_test_pred_2)\n",
    "print('Mean Absolute Error: {:.2%}'.format(mae_2))\n",
    "\n",
    "mse_2 = mean_squared_error(y_test_2, y_test_pred_2)\n",
    "print('Mean Squared Error: {:.2%}'.format(mse_2))\n",
    "\n",
    "rmse_2 = root_mean_squared_error(y_test_2, y_test_pred_2)\n",
    "print('Root Mean Squared Error: {:.2%}'.format(rmse_2))"
   ]
  },
  {
   "cell_type": "markdown",
   "id": "f42a0974-3eb5-4969-b396-a919fbe66346",
   "metadata": {},
   "source": [
    "### Resultado de Random Forest"
   ]
  },
  {
   "cell_type": "markdown",
   "id": "b50c7194-4ab8-4b4b-8a25-f9b516e558b8",
   "metadata": {},
   "source": [
    "Tras las pruebas realizadas para evitar el sobreajuste, obtenemos un score para el conjunto de entrenamiento del 85% y para el conjunto de pruebas de casi el 59%.<br>\n",
    "Por tanto, no se consigue superar el 62% de score del conjunto de pruebas previo a las modificaciones para evitar el posible sobreajuste."
   ]
  },
  {
   "cell_type": "markdown",
   "id": "86861d25-4bf1-4dac-a67f-9e9520b1cbcd",
   "metadata": {},
   "source": [
    "# Conclusiones"
   ]
  },
  {
   "cell_type": "markdown",
   "id": "5367005b-a0b4-48f9-839f-c1b49630f6ee",
   "metadata": {},
   "source": [
    "Aunque los resultados de Random Forest no son muy buenos, son mucho mejores que los de MLP. Por tanto, vamos a industrializar Random Forest."
   ]
  },
  {
   "cell_type": "code",
   "execution_count": null,
   "id": "d230774a-5492-45df-a1f2-a69789f41505",
   "metadata": {},
   "outputs": [],
   "source": []
  }
 ],
 "metadata": {
  "kernelspec": {
   "display_name": "Python 3 (ipykernel)",
   "language": "python",
   "name": "python3"
  },
  "language_info": {
   "codemirror_mode": {
    "name": "ipython",
    "version": 3
   },
   "file_extension": ".py",
   "mimetype": "text/x-python",
   "name": "python",
   "nbconvert_exporter": "python",
   "pygments_lexer": "ipython3",
   "version": "3.12.5"
  }
 },
 "nbformat": 4,
 "nbformat_minor": 5
}
